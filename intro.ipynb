{
 "cells": [
  {
   "cell_type": "markdown",
   "id": "9acae0fb-49d2-457c-8fb1-1ad3de4f373d",
   "metadata": {},
   "source": [
    "# Welcome to R and Markdown!\n",
    "\n",
    "# This is a heading\n",
    "\n",
    "## This is a smaller header\n",
    "\n",
    "### This is an even smaller header\n",
    "\n",
    "#### ... you get it\n",
    "\n",
    "* This makes a bulet point\n",
    "\n",
    "* But what about a numbered list?\n",
    "\n",
    "1. Just use the numbers ...\n",
    "\n",
    "# Ok, let's code\n",
    "\n",
    "Both R and Python are basically just fancy calculators. Let's start by doing some basic calculations:"
   ]
  },
  {
   "cell_type": "code",
   "execution_count": 7,
   "id": "cd5b407d-3b0c-48b9-98d1-1794362c8f91",
   "metadata": {},
   "outputs": [
    {
     "data": {
      "text/html": [
       "2"
      ],
      "text/latex": [
       "2"
      ],
      "text/markdown": [
       "2"
      ],
      "text/plain": [
       "[1] 2"
      ]
     },
     "metadata": {},
     "output_type": "display_data"
    }
   ],
   "source": [
    "1 + 1"
   ]
  },
  {
   "cell_type": "code",
   "execution_count": 8,
   "id": "3ad0a3df-917b-4f7e-898a-946706d494db",
   "metadata": {},
   "outputs": [
    {
     "data": {
      "text/html": [
       "7"
      ],
      "text/latex": [
       "7"
      ],
      "text/markdown": [
       "7"
      ],
      "text/plain": [
       "[1] 7"
      ]
     },
     "metadata": {},
     "output_type": "display_data"
    }
   ],
   "source": [
    "5 + 2"
   ]
  },
  {
   "cell_type": "markdown",
   "id": "2e86496f-d4ca-48e0-b651-0651d323f6b9",
   "metadata": {},
   "source": [
    "Notice the spaces on either side of the \"+\" operator. This is considered good grammar. Following good grammar is important because it makes our code eaiser to read. Goodgrammarisoptional but it sure makes this eaiser! Here are some examples of \"bad grammar\":"
   ]
  },
  {
   "cell_type": "code",
   "execution_count": 10,
   "id": "96a292ee-a1cf-4feb-b7fa-75b20ed7c1d6",
   "metadata": {},
   "outputs": [
    {
     "data": {
      "text/html": [
       "2"
      ],
      "text/latex": [
       "2"
      ],
      "text/markdown": [
       "2"
      ],
      "text/plain": [
       "[1] 2"
      ]
     },
     "metadata": {},
     "output_type": "display_data"
    },
    {
     "data": {
      "text/html": [
       "15"
      ],
      "text/latex": [
       "15"
      ],
      "text/markdown": [
       "15"
      ],
      "text/plain": [
       "[1] 15"
      ]
     },
     "metadata": {},
     "output_type": "display_data"
    }
   ],
   "source": [
    "1+1\n",
    "\n",
    "5*3/1^3"
   ]
  },
  {
   "cell_type": "markdown",
   "id": "031c76a9-ea9e-4772-9ade-bed8bc8fb69b",
   "metadata": {},
   "source": [
    "Yes, we can do more than add."
   ]
  },
  {
   "cell_type": "code",
   "execution_count": 11,
   "id": "d2f59fdf-ad78-4d5d-8c3b-ffa929f48523",
   "metadata": {},
   "outputs": [
    {
     "data": {
      "text/html": [
       "32"
      ],
      "text/latex": [
       "32"
      ],
      "text/markdown": [
       "32"
      ],
      "text/plain": [
       "[1] 32"
      ]
     },
     "metadata": {},
     "output_type": "display_data"
    }
   ],
   "source": [
    "4 * 8"
   ]
  },
  {
   "cell_type": "code",
   "execution_count": 12,
   "id": "b814a933-51f7-4e7a-8c86-b29997bee74f",
   "metadata": {},
   "outputs": [
    {
     "data": {
      "text/html": [
       "9937155"
      ],
      "text/latex": [
       "9937155"
      ],
      "text/markdown": [
       "9937155"
      ],
      "text/plain": [
       "[1] 9937155"
      ]
     },
     "metadata": {},
     "output_type": "display_data"
    }
   ],
   "source": [
    "5 * 1987431"
   ]
  },
  {
   "cell_type": "code",
   "execution_count": 13,
   "id": "5ac0f189-c236-4802-bd9a-1dfecde850f4",
   "metadata": {},
   "outputs": [
    {
     "data": {
      "text/html": [
       "395835.465116279"
      ],
      "text/latex": [
       "395835.465116279"
      ],
      "text/markdown": [
       "395835.465116279"
      ],
      "text/plain": [
       "[1] 395835.5"
      ]
     },
     "metadata": {},
     "output_type": "display_data"
    }
   ],
   "source": [
    "187230175 / 473"
   ]
  },
  {
   "cell_type": "code",
   "execution_count": 16,
   "id": "d56bd665-7e51-4b2d-9883-327d54440358",
   "metadata": {},
   "outputs": [
    {
     "data": {
      "text/html": [
       "1889568"
      ],
      "text/latex": [
       "1889568"
      ],
      "text/markdown": [
       "1889568"
      ],
      "text/plain": [
       "[1] 1889568"
      ]
     },
     "metadata": {},
     "output_type": "display_data"
    }
   ],
   "source": [
    "18 ^ 5"
   ]
  },
  {
   "cell_type": "markdown",
   "id": "ec16fc1c-b91c-41a5-8cd1-5f8bbf897c70",
   "metadata": {},
   "source": [
    "Notebooks show the results of our code right below each code block, but what if we wanted to save the answer to retrieve later? We can do this be creating an object. This is done using the assignment operator. In R, the assignment operator is \"<-\" and in Python we use \"=\" "
   ]
  },
  {
   "cell_type": "code",
   "execution_count": 17,
   "id": "07b35edd-4a32-42e9-8ab5-3de715924d0e",
   "metadata": {},
   "outputs": [],
   "source": [
    "answer <- 5 + 2"
   ]
  },
  {
   "cell_type": "markdown",
   "id": "49441495-734b-4d3e-9c6e-11264a0ba16a",
   "metadata": {},
   "source": [
    "To see what the answer is, we just call on the object we created which is called \"answer\""
   ]
  },
  {
   "cell_type": "code",
   "execution_count": 18,
   "id": "e277c253-f21d-4f41-93c6-ac6cb0226d58",
   "metadata": {},
   "outputs": [
    {
     "data": {
      "text/html": [
       "7"
      ],
      "text/latex": [
       "7"
      ],
      "text/markdown": [
       "7"
      ],
      "text/plain": [
       "[1] 7"
      ]
     },
     "metadata": {},
     "output_type": "display_data"
    }
   ],
   "source": [
    "answer"
   ]
  },
  {
   "cell_type": "markdown",
   "id": "3b0ee766-9024-4c6d-a0a0-986272059712",
   "metadata": {},
   "source": [
    "We can use objects to do operations as well:"
   ]
  },
  {
   "cell_type": "code",
   "execution_count": 19,
   "id": "2844de0b-cf6a-44e6-a37e-3cb0702e53f5",
   "metadata": {},
   "outputs": [
    {
     "data": {
      "text/html": [
       "70"
      ],
      "text/latex": [
       "70"
      ],
      "text/markdown": [
       "70"
      ],
      "text/plain": [
       "[1] 70"
      ]
     },
     "metadata": {},
     "output_type": "display_data"
    }
   ],
   "source": [
    "answer * 10"
   ]
  },
  {
   "cell_type": "markdown",
   "id": "eb098274-b399-4d4b-a1cf-3cca7b7b4727",
   "metadata": {},
   "source": [
    "# Data Types\n",
    "\n",
    "In R and Python, all objects have three attributes:\n",
    "\n",
    "* name\n",
    "* value\n",
    "* type\n",
    "\n",
    "For example, the object we just created is named \"answer\" and its value is 7. But what is its type? To find out we need to use the `class()` function.\n",
    "\n",
    "A quick side note on functions. Most software programs for data rely on the use of functions. That might sound intimidating, but it's straight forward. Remember back in algebra class when you learned how to solve $y = 5x$? Well, that's a function. In this equation, $y$ is a function of $x$. If $x = 2$ then $y$ equals 10. Easy. We could also write this expression as $f(x) = 5x$. This is the same expression, just written differently. In these equations, $y$, or $f(x)$ is the function and $x$ is called the argument. Whatever number we choose for $x$ will determine the output of the function. \n",
    "\n",
    "In programming, the functions we use look a little different but they still work the same way. For example, if we wanted to find the sum of a bunch of numbers we could use a `sum()` function where we put the argument in the parentheses. We'll get more practice at this as we move along, but for now lets use the `class()` function to find out what type of data the object `answer` contains. In this case, the arugment we want to use is the object that we want to learn about, and that object is called `answer`."
   ]
  },
  {
   "cell_type": "code",
   "execution_count": 20,
   "id": "3642df61-a3b2-43cc-81e5-20e43b23a0b2",
   "metadata": {},
   "outputs": [
    {
     "data": {
      "text/html": [
       "'numeric'"
      ],
      "text/latex": [
       "'numeric'"
      ],
      "text/markdown": [
       "'numeric'"
      ],
      "text/plain": [
       "[1] \"numeric\""
      ]
     },
     "metadata": {},
     "output_type": "display_data"
    }
   ],
   "source": [
    "class(answer)"
   ]
  },
  {
   "cell_type": "markdown",
   "id": "e5463118-b5e1-4295-b6d0-31397c5575df",
   "metadata": {},
   "source": [
    "This tells us that the object \"answer\" has a type of numeric. It's numeric data (because it's a number). \n",
    "\n",
    "There are other important types of data, too. \n",
    "\n",
    "* Strings (or character)\n",
    "* Logical\n",
    "* Categorical (or factor)\n",
    "\n",
    "Before we look at some examples of these, it's important to know that we can create combinations, or lists) of values in one object. We do this in R using the `c()` function:"
   ]
  },
  {
   "cell_type": "code",
   "execution_count": 26,
   "id": "c06087a1-2120-4be5-a438-e7102f96c68d",
   "metadata": {},
   "outputs": [
    {
     "data": {
      "text/html": [
       "<style>\n",
       ".list-inline {list-style: none; margin:0; padding: 0}\n",
       ".list-inline>li {display: inline-block}\n",
       ".list-inline>li:not(:last-child)::after {content: \"\\00b7\"; padding: 0 .5ex}\n",
       "</style>\n",
       "<ol class=list-inline><li>5</li><li>8</li><li>10</li></ol>\n"
      ],
      "text/latex": [
       "\\begin{enumerate*}\n",
       "\\item 5\n",
       "\\item 8\n",
       "\\item 10\n",
       "\\end{enumerate*}\n"
      ],
      "text/markdown": [
       "1. 5\n",
       "2. 8\n",
       "3. 10\n",
       "\n",
       "\n"
      ],
      "text/plain": [
       "[1]  5  8 10"
      ]
     },
     "metadata": {},
     "output_type": "display_data"
    }
   ],
   "source": [
    "c(1 + 4, 4 * 2, 10)"
   ]
  },
  {
   "cell_type": "code",
   "execution_count": 28,
   "id": "0d251d0c-de3c-4a96-8c01-4dcf7bdcaf85",
   "metadata": {},
   "outputs": [
    {
     "data": {
      "text/html": [
       "<style>\n",
       ".list-inline {list-style: none; margin:0; padding: 0}\n",
       ".list-inline>li {display: inline-block}\n",
       ".list-inline>li:not(:last-child)::after {content: \"\\00b7\"; padding: 0 .5ex}\n",
       "</style>\n",
       "<ol class=list-inline><li>5</li><li>8</li><li>10</li></ol>\n"
      ],
      "text/latex": [
       "\\begin{enumerate*}\n",
       "\\item 5\n",
       "\\item 8\n",
       "\\item 10\n",
       "\\end{enumerate*}\n"
      ],
      "text/markdown": [
       "1. 5\n",
       "2. 8\n",
       "3. 10\n",
       "\n",
       "\n"
      ],
      "text/plain": [
       "[1]  5  8 10"
      ]
     },
     "metadata": {},
     "output_type": "display_data"
    }
   ],
   "source": [
    "new.object <- c(1 + 4, 4 * 2, 10)\n",
    "new.object"
   ]
  },
  {
   "cell_type": "markdown",
   "id": "19f9939f-9ed2-4a8f-9d22-02f3c25edd1b",
   "metadata": {},
   "source": [
    "Now let's look at some examples of these different types of data."
   ]
  },
  {
   "cell_type": "code",
   "execution_count": 30,
   "id": "289c5053-365e-44fb-91dc-dae4d46e7ba7",
   "metadata": {},
   "outputs": [
    {
     "data": {
      "text/html": [
       "<style>\n",
       ".list-inline {list-style: none; margin:0; padding: 0}\n",
       ".list-inline>li {display: inline-block}\n",
       ".list-inline>li:not(:last-child)::after {content: \"\\00b7\"; padding: 0 .5ex}\n",
       "</style>\n",
       "<ol class=list-inline><li>'high school'</li><li>'bachelors'</li><li>'grad school'</li></ol>\n"
      ],
      "text/latex": [
       "\\begin{enumerate*}\n",
       "\\item 'high school'\n",
       "\\item 'bachelors'\n",
       "\\item 'grad school'\n",
       "\\end{enumerate*}\n"
      ],
      "text/markdown": [
       "1. 'high school'\n",
       "2. 'bachelors'\n",
       "3. 'grad school'\n",
       "\n",
       "\n"
      ],
      "text/plain": [
       "[1] \"high school\" \"bachelors\"   \"grad school\""
      ]
     },
     "metadata": {},
     "output_type": "display_data"
    },
    {
     "data": {
      "text/html": [
       "'character'"
      ],
      "text/latex": [
       "'character'"
      ],
      "text/markdown": [
       "'character'"
      ],
      "text/plain": [
       "[1] \"character\""
      ]
     },
     "metadata": {},
     "output_type": "display_data"
    }
   ],
   "source": [
    "string.example <- c(\"high school\", \"bachelors\", \"grad school\")\n",
    "\n",
    "string.example\n",
    "\n",
    "class(string.example)"
   ]
  },
  {
   "cell_type": "code",
   "execution_count": 31,
   "id": "5cc7a37c-ce48-4c66-b910-174a182da9ea",
   "metadata": {},
   "outputs": [
    {
     "data": {
      "text/html": [
       "<style>\n",
       ".list-inline {list-style: none; margin:0; padding: 0}\n",
       ".list-inline>li {display: inline-block}\n",
       ".list-inline>li:not(:last-child)::after {content: \"\\00b7\"; padding: 0 .5ex}\n",
       "</style>\n",
       "<ol class=list-inline><li>0</li><li>1</li><li>0</li></ol>\n"
      ],
      "text/latex": [
       "\\begin{enumerate*}\n",
       "\\item 0\n",
       "\\item 1\n",
       "\\item 0\n",
       "\\end{enumerate*}\n"
      ],
      "text/markdown": [
       "1. 0\n",
       "2. 1\n",
       "3. 0\n",
       "\n",
       "\n"
      ],
      "text/plain": [
       "[1] 0 1 0"
      ]
     },
     "metadata": {},
     "output_type": "display_data"
    },
    {
     "data": {
      "text/html": [
       "'numeric'"
      ],
      "text/latex": [
       "'numeric'"
      ],
      "text/markdown": [
       "'numeric'"
      ],
      "text/plain": [
       "[1] \"numeric\""
      ]
     },
     "metadata": {},
     "output_type": "display_data"
    }
   ],
   "source": [
    "logical.example <- c(0, 1, 0)\n",
    "\n",
    "logical.example\n",
    "\n",
    "class(logical.example)"
   ]
  },
  {
   "cell_type": "markdown",
   "id": "db52eb97-b709-4d55-a312-b4e6a4b001e5",
   "metadata": {},
   "source": [
    "Wait, numeric? Yes, its because we need to convert the object to be the type \"logical.\" We do this with the `as.logical()` function. "
   ]
  },
  {
   "cell_type": "code",
   "execution_count": 34,
   "id": "4f8adbea-9319-42f0-a6e2-7c988ad4b8b7",
   "metadata": {},
   "outputs": [
    {
     "data": {
      "text/html": [
       "<style>\n",
       ".list-inline {list-style: none; margin:0; padding: 0}\n",
       ".list-inline>li {display: inline-block}\n",
       ".list-inline>li:not(:last-child)::after {content: \"\\00b7\"; padding: 0 .5ex}\n",
       "</style>\n",
       "<ol class=list-inline><li>FALSE</li><li>TRUE</li><li>FALSE</li></ol>\n"
      ],
      "text/latex": [
       "\\begin{enumerate*}\n",
       "\\item FALSE\n",
       "\\item TRUE\n",
       "\\item FALSE\n",
       "\\end{enumerate*}\n"
      ],
      "text/markdown": [
       "1. FALSE\n",
       "2. TRUE\n",
       "3. FALSE\n",
       "\n",
       "\n"
      ],
      "text/plain": [
       "[1] FALSE  TRUE FALSE"
      ]
     },
     "metadata": {},
     "output_type": "display_data"
    },
    {
     "data": {
      "text/html": [
       "'logical'"
      ],
      "text/latex": [
       "'logical'"
      ],
      "text/markdown": [
       "'logical'"
      ],
      "text/plain": [
       "[1] \"logical\""
      ]
     },
     "metadata": {},
     "output_type": "display_data"
    }
   ],
   "source": [
    "logical.example <- as.logical(logical.example)\n",
    "\n",
    "logical.example\n",
    "\n",
    "class(logical.example)"
   ]
  },
  {
   "cell_type": "code",
   "execution_count": 38,
   "id": "0a2161ba-9f66-4f53-a9f6-eaf4ae8c5f94",
   "metadata": {},
   "outputs": [
    {
     "data": {
      "text/html": [
       "<style>\n",
       ".list-inline {list-style: none; margin:0; padding: 0}\n",
       ".list-inline>li {display: inline-block}\n",
       ".list-inline>li:not(:last-child)::after {content: \"\\00b7\"; padding: 0 .5ex}\n",
       "</style>\n",
       "<ol class=list-inline><li>high school</li><li>bachelors</li><li>grad school</li></ol>\n",
       "\n",
       "<details>\n",
       "\t<summary style=display:list-item;cursor:pointer>\n",
       "\t\t<strong>Levels</strong>:\n",
       "\t</summary>\n",
       "\t<style>\n",
       "\t.list-inline {list-style: none; margin:0; padding: 0}\n",
       "\t.list-inline>li {display: inline-block}\n",
       "\t.list-inline>li:not(:last-child)::after {content: \"\\00b7\"; padding: 0 .5ex}\n",
       "\t</style>\n",
       "\t<ol class=list-inline><li>'bachelors'</li><li>'grad school'</li><li>'high school'</li></ol>\n",
       "</details>"
      ],
      "text/latex": [
       "\\begin{enumerate*}\n",
       "\\item high school\n",
       "\\item bachelors\n",
       "\\item grad school\n",
       "\\end{enumerate*}\n",
       "\n",
       "\\emph{Levels}: \\begin{enumerate*}\n",
       "\\item 'bachelors'\n",
       "\\item 'grad school'\n",
       "\\item 'high school'\n",
       "\\end{enumerate*}\n"
      ],
      "text/markdown": [
       "1. high school\n",
       "2. bachelors\n",
       "3. grad school\n",
       "\n",
       "\n",
       "\n",
       "**Levels**: 1. 'bachelors'\n",
       "2. 'grad school'\n",
       "3. 'high school'\n",
       "\n",
       "\n"
      ],
      "text/plain": [
       "[1] high school bachelors   grad school\n",
       "Levels: bachelors grad school high school"
      ]
     },
     "metadata": {},
     "output_type": "display_data"
    },
    {
     "data": {
      "text/html": [
       "'factor'"
      ],
      "text/latex": [
       "'factor'"
      ],
      "text/markdown": [
       "'factor'"
      ],
      "text/plain": [
       "[1] \"factor\""
      ]
     },
     "metadata": {},
     "output_type": "display_data"
    }
   ],
   "source": [
    "cat.exp <- as.factor(string.example)\n",
    "\n",
    "cat.exp\n",
    "\n",
    "class(cat.exp)"
   ]
  },
  {
   "cell_type": "markdown",
   "id": "10f4229b-5d64-497e-bb91-e2aecdf6d79a",
   "metadata": {},
   "source": [
    "# Importing Data\n",
    "\n",
    "Of course, we can use R or Python to work with existing data by importing it. R and Python can import data of almost any file type. Excel files, csv files, Stata files, SPSS files, JSON files, txt files, PDFs, SAS files, ...\n",
    "\n",
    "Importing data is pretty much the same for any file, but different files sometimes require different functions. To import a CSV file in R, we use the `read.csv()` function. "
   ]
  },
  {
   "cell_type": "code",
   "execution_count": 5,
   "id": "97dec765-695a-4bef-a50d-9cf3bb65a187",
   "metadata": {},
   "outputs": [
    {
     "data": {
      "text/html": [
       "<table class=\"dataframe\">\n",
       "<caption>A data.frame: 52 × 44</caption>\n",
       "<thead>\n",
       "\t<tr><th scope=col>STATE</th><th scope=col>FIPSTATE</th><th scope=col>SC</th><th scope=col>CD</th><th scope=col>REDIST</th><th scope=col>ACEREGIO</th><th scope=col>AGE65</th><th scope=col>BANK</th><th scope=col>BLACK</th><th scope=col>BLUCLLR</th><th scope=col>⋯</th><th scope=col>PORT</th><th scope=col>RURLFARM</th><th scope=col>STATWRKR</th><th scope=col>TRANSPRT</th><th scope=col>UNEMPLYD</th><th scope=col>UNION</th><th scope=col>URBAN</th><th scope=col>VABEDS</th><th scope=col>VETERANS</th><th scope=col>WHLRETL</th></tr>\n",
       "\t<tr><th scope=col>&lt;fct&gt;</th><th scope=col>&lt;int&gt;</th><th scope=col>&lt;int&gt;</th><th scope=col>&lt;int&gt;</th><th scope=col>&lt;int&gt;</th><th scope=col>&lt;int&gt;</th><th scope=col>&lt;int&gt;</th><th scope=col>&lt;int&gt;</th><th scope=col>&lt;int&gt;</th><th scope=col>&lt;int&gt;</th><th scope=col>⋯</th><th scope=col>&lt;int&gt;</th><th scope=col>&lt;int&gt;</th><th scope=col>&lt;int&gt;</th><th scope=col>&lt;int&gt;</th><th scope=col>&lt;int&gt;</th><th scope=col>&lt;dbl&gt;</th><th scope=col>&lt;int&gt;</th><th scope=col>&lt;int&gt;</th><th scope=col>&lt;int&gt;</th><th scope=col>&lt;int&gt;</th></tr>\n",
       "</thead>\n",
       "<tbody>\n",
       "\t<tr><td>CA</td><td>6</td><td>71</td><td> 1</td><td>0</td><td>16</td><td> 73678</td><td>328500</td><td> 22314</td><td>33931</td><td>⋯</td><td>      NA</td><td> 9013</td><td>13525</td><td>10173</td><td>16375</td><td>25.4</td><td>223333</td><td>   0</td><td>2856770</td><td>54203</td></tr>\n",
       "\t<tr><td>CA</td><td>6</td><td>71</td><td> 2</td><td>0</td><td>16</td><td> 89325</td><td>328500</td><td>  8410</td><td>29098</td><td>⋯</td><td>      NA</td><td> 8452</td><td>12293</td><td> 8040</td><td>18987</td><td>25.4</td><td>185449</td><td>   0</td><td>2856770</td><td>48240</td></tr>\n",
       "\t<tr><td>CA</td><td>6</td><td>71</td><td> 3</td><td>0</td><td>16</td><td> 62802</td><td>328500</td><td> 18530</td><td>31865</td><td>⋯</td><td>      NA</td><td>14034</td><td>27035</td><td>11269</td><td>17972</td><td>25.4</td><td>363204</td><td>   0</td><td>2856770</td><td>55878</td></tr>\n",
       "\t<tr><td>CA</td><td>6</td><td>71</td><td> 4</td><td>0</td><td>16</td><td> 68906</td><td>328500</td><td>  9538</td><td>28055</td><td>⋯</td><td>      NA</td><td> 3828</td><td>16565</td><td> 9167</td><td>13102</td><td>25.4</td><td>224927</td><td>   0</td><td>2856770</td><td>56799</td></tr>\n",
       "\t<tr><td>CA</td><td>6</td><td>71</td><td> 5</td><td>0</td><td>16</td><td> 65194</td><td>328500</td><td> 73429</td><td>27190</td><td>⋯</td><td>      NA</td><td>   12</td><td>41385</td><td>10249</td><td>17155</td><td>25.4</td><td>570923</td><td>   0</td><td>2856770</td><td>52775</td></tr>\n",
       "\t<tr><td>CA</td><td>6</td><td>71</td><td> 6</td><td>0</td><td>16</td><td> 74726</td><td>328500</td><td> 13279</td><td>26062</td><td>⋯</td><td>      NA</td><td> 5232</td><td> 9988</td><td>11098</td><td>11759</td><td>25.4</td><td>392810</td><td>   0</td><td>2856770</td><td>61612</td></tr>\n",
       "\t<tr><td>CA</td><td>6</td><td>71</td><td> 7</td><td>0</td><td>16</td><td> 58806</td><td>328500</td><td> 95228</td><td>30372</td><td>⋯</td><td>      NA</td><td>    0</td><td>10357</td><td>15332</td><td>16843</td><td>25.4</td><td>571018</td><td>   0</td><td>2856770</td><td>56550</td></tr>\n",
       "\t<tr><td>CA</td><td>6</td><td>71</td><td> 8</td><td>0</td><td>16</td><td> 78265</td><td>328500</td><td> 73442</td><td>29165</td><td>⋯</td><td>      NA</td><td>    0</td><td> 9719</td><td>17742</td><td>20019</td><td>25.4</td><td>573192</td><td>   0</td><td>2856770</td><td>65324</td></tr>\n",
       "\t<tr><td>CA</td><td>6</td><td>71</td><td> 9</td><td>0</td><td>16</td><td> 68177</td><td>328500</td><td>182452</td><td>25888</td><td>⋯</td><td>      NA</td><td>    0</td><td>18917</td><td>14539</td><td>19809</td><td>25.4</td><td>573669</td><td>   0</td><td>2856770</td><td>47100</td></tr>\n",
       "\t<tr><td>CA</td><td>6</td><td>71</td><td>10</td><td>0</td><td>16</td><td> 59873</td><td>328500</td><td> 12917</td><td>22611</td><td>⋯</td><td>      NA</td><td> 1065</td><td> 9821</td><td>12133</td><td>10953</td><td>25.4</td><td>549252</td><td>  61</td><td>2856770</td><td>63941</td></tr>\n",
       "\t<tr><td>CA</td><td>6</td><td>71</td><td>11</td><td>0</td><td>16</td><td> 61404</td><td>328500</td><td> 32885</td><td>38168</td><td>⋯</td><td>      NA</td><td>11843</td><td>12437</td><td>12088</td><td>19686</td><td>25.4</td><td>381903</td><td>   0</td><td>2856770</td><td>50957</td></tr>\n",
       "\t<tr><td>CA</td><td>6</td><td>71</td><td>12</td><td>0</td><td>16</td><td> 79171</td><td>328500</td><td> 22766</td><td>27843</td><td>⋯</td><td>      NA</td><td>    0</td><td> 9619</td><td>25764</td><td>12532</td><td>25.4</td><td>571620</td><td>   0</td><td>2856770</td><td>67610</td></tr>\n",
       "\t<tr><td>CA</td><td>6</td><td>71</td><td>13</td><td>0</td><td>16</td><td> 53092</td><td>328500</td><td> 42060</td><td>42257</td><td>⋯</td><td>      NA</td><td>    0</td><td> 6954</td><td>19707</td><td>14691</td><td>25.4</td><td>571615</td><td>   0</td><td>2856770</td><td>66127</td></tr>\n",
       "\t<tr><td>CA</td><td>6</td><td>71</td><td>14</td><td>0</td><td>16</td><td> 64756</td><td>328500</td><td> 27980</td><td>21547</td><td>⋯</td><td>      NA</td><td>  239</td><td> 4177</td><td> 9863</td><td>11251</td><td>25.4</td><td>562365</td><td>1371</td><td>2856770</td><td>55752</td></tr>\n",
       "\t<tr><td>CA</td><td>6</td><td>71</td><td>15</td><td>0</td><td>16</td><td> 54148</td><td>328500</td><td> 12273</td><td>25931</td><td>⋯</td><td>      NA</td><td>  521</td><td> 6180</td><td> 9603</td><td>11866</td><td>25.4</td><td>549185</td><td>   0</td><td>2856770</td><td>62424</td></tr>\n",
       "\t<tr><td>CA</td><td>6</td><td>71</td><td>16</td><td>0</td><td>16</td><td> 39768</td><td>328500</td><td> 29545</td><td>44852</td><td>⋯</td><td>      NA</td><td> 1835</td><td> 6643</td><td>10554</td><td>18597</td><td>25.4</td><td>516861</td><td>   0</td><td>2856770</td><td>52640</td></tr>\n",
       "\t<tr><td>CA</td><td>6</td><td>71</td><td>17</td><td>0</td><td>16</td><td> 59816</td><td>328500</td><td> 24991</td><td>30290</td><td>⋯</td><td>      NA</td><td> 5687</td><td>10451</td><td> 7374</td><td>18759</td><td>25.4</td><td>424528</td><td>   0</td><td>2856770</td><td>54779</td></tr>\n",
       "\t<tr><td>CA</td><td>6</td><td>71</td><td>18</td><td>0</td><td>16</td><td> 58580</td><td>328500</td><td> 16007</td><td>39496</td><td>⋯</td><td>      NA</td><td>23357</td><td> 6420</td><td> 8722</td><td>23697</td><td>25.4</td><td>295716</td><td>   0</td><td>2856770</td><td>46733</td></tr>\n",
       "\t<tr><td>CA</td><td>6</td><td>71</td><td>19</td><td>0</td><td>16</td><td> 63916</td><td>328500</td><td> 18724</td><td>29058</td><td>⋯</td><td>      NA</td><td>11598</td><td>11266</td><td> 9812</td><td>17712</td><td>25.4</td><td>391289</td><td> 168</td><td>2856770</td><td>53640</td></tr>\n",
       "\t<tr><td>CA</td><td>6</td><td>71</td><td>20</td><td>0</td><td>16</td><td> 49611</td><td>328500</td><td> 36656</td><td>32447</td><td>⋯</td><td>      NA</td><td>23187</td><td> 6978</td><td> 6876</td><td>33350</td><td>25.4</td><td>149984</td><td>   0</td><td>2856770</td><td>35097</td></tr>\n",
       "\t<tr><td>CA</td><td>6</td><td>71</td><td>21</td><td>0</td><td>16</td><td> 61313</td><td>328500</td><td> 22676</td><td>30894</td><td>⋯</td><td>      NA</td><td> 4436</td><td>10021</td><td> 9679</td><td>17612</td><td>25.4</td><td>298113</td><td>   0</td><td>2856770</td><td>51401</td></tr>\n",
       "\t<tr><td>CA</td><td>6</td><td>71</td><td>22</td><td>0</td><td>16</td><td> 74192</td><td>328500</td><td> 15778</td><td>26631</td><td>⋯</td><td>      NA</td><td> 5085</td><td>19897</td><td> 6957</td><td>13990</td><td>25.4</td><td>365081</td><td>   0</td><td>2856770</td><td>56427</td></tr>\n",
       "\t<tr><td>CA</td><td>6</td><td>71</td><td>23</td><td>0</td><td>16</td><td> 54113</td><td>328500</td><td> 14423</td><td>35195</td><td>⋯</td><td>      NA</td><td> 4194</td><td> 7896</td><td> 7910</td><td>13361</td><td>25.4</td><td>481126</td><td>   0</td><td>2856770</td><td>55425</td></tr>\n",
       "\t<tr><td>CA</td><td>6</td><td>71</td><td>24</td><td>0</td><td>16</td><td> 63493</td><td>328500</td><td> 11384</td><td>22166</td><td>⋯</td><td>42049893</td><td>  344</td><td> 5145</td><td> 8463</td><td>13976</td><td>25.4</td><td>556006</td><td>   0</td><td>2856770</td><td>65325</td></tr>\n",
       "\t<tr><td>CA</td><td>6</td><td>71</td><td>25</td><td>0</td><td>16</td><td> 43152</td><td>328500</td><td> 25864</td><td>26610</td><td>⋯</td><td>42049893</td><td>  810</td><td> 6970</td><td> 9213</td><td>14237</td><td>25.4</td><td>506718</td><td> 909</td><td>2856770</td><td>57774</td></tr>\n",
       "\t<tr><td>CA</td><td>6</td><td>71</td><td>26</td><td>0</td><td>16</td><td> 44779</td><td>328500</td><td> 35106</td><td>56456</td><td>⋯</td><td>42049893</td><td>    0</td><td> 4575</td><td> 9459</td><td>22638</td><td>25.4</td><td>571538</td><td>   0</td><td>2856770</td><td>55426</td></tr>\n",
       "\t<tr><td>CA</td><td>6</td><td>71</td><td>27</td><td>0</td><td>16</td><td> 74115</td><td>328500</td><td> 46921</td><td>25090</td><td>⋯</td><td>42049893</td><td>    0</td><td> 5632</td><td> 8897</td><td>16222</td><td>25.4</td><td>571947</td><td>   0</td><td>2856770</td><td>51699</td></tr>\n",
       "\t<tr><td>CA</td><td>6</td><td>71</td><td>28</td><td>0</td><td>16</td><td> 62595</td><td>328500</td><td> 32621</td><td>30624</td><td>⋯</td><td>      NA</td><td>    0</td><td> 8004</td><td>11386</td><td>13358</td><td>25.4</td><td>571426</td><td>   0</td><td>2856770</td><td>59301</td></tr>\n",
       "\t<tr><td>CA</td><td>6</td><td>71</td><td>29</td><td>0</td><td>16</td><td> 91269</td><td>328500</td><td> 19825</td><td>15678</td><td>⋯</td><td>42049893</td><td>    0</td><td>12260</td><td> 8247</td><td>18454</td><td>25.4</td><td>571386</td><td>   0</td><td>2856770</td><td>59150</td></tr>\n",
       "\t<tr><td>CA</td><td>6</td><td>71</td><td>30</td><td>0</td><td>16</td><td> 45691</td><td>328500</td><td> 19738</td><td>54562</td><td>⋯</td><td>42049893</td><td>    0</td><td> 4355</td><td> 9454</td><td>27538</td><td>25.4</td><td>572604</td><td>   0</td><td>2856770</td><td>59265</td></tr>\n",
       "\t<tr><td>CA</td><td>6</td><td>71</td><td>31</td><td>0</td><td>16</td><td> 51177</td><td>328500</td><td>  9398</td><td>56388</td><td>⋯</td><td>42049893</td><td>    0</td><td> 5863</td><td>10569</td><td>20376</td><td>25.4</td><td>572735</td><td>   0</td><td>2856770</td><td>56064</td></tr>\n",
       "\t<tr><td>CA</td><td>6</td><td>71</td><td>32</td><td>0</td><td>16</td><td> 65453</td><td>328500</td><td>231149</td><td>35975</td><td>⋯</td><td>42049893</td><td>    0</td><td>10126</td><td>13321</td><td>24063</td><td>25.4</td><td>572630</td><td>   0</td><td>2856770</td><td>49698</td></tr>\n",
       "\t<tr><td>CA</td><td>6</td><td>71</td><td>33</td><td>0</td><td>16</td><td> 36912</td><td>328500</td><td> 24583</td><td>83517</td><td>⋯</td><td>42049893</td><td>    0</td><td> 3108</td><td> 9108</td><td>29042</td><td>25.4</td><td>570893</td><td>   0</td><td>2856770</td><td>49248</td></tr>\n",
       "\t<tr><td>CA</td><td>6</td><td>71</td><td>34</td><td>0</td><td>16</td><td> 50565</td><td>328500</td><td> 11212</td><td>55415</td><td>⋯</td><td>      NA</td><td>    0</td><td> 6255</td><td>13773</td><td>18726</td><td>25.4</td><td>573456</td><td>   0</td><td>2856770</td><td>58985</td></tr>\n",
       "\t<tr><td>CA</td><td>6</td><td>71</td><td>35</td><td>0</td><td>16</td><td> 41810</td><td>328500</td><td>243818</td><td>51943</td><td>⋯</td><td>42049893</td><td>    0</td><td> 5395</td><td>17325</td><td>27854</td><td>25.4</td><td>570697</td><td>   0</td><td>2856770</td><td>43269</td></tr>\n",
       "\t<tr><td>CA</td><td>6</td><td>71</td><td>36</td><td>0</td><td>16</td><td> 59434</td><td>328500</td><td> 17844</td><td>23059</td><td>⋯</td><td>42049893</td><td>    0</td><td> 5661</td><td>20054</td><td>13235</td><td>25.4</td><td>570181</td><td>   0</td><td>2856770</td><td>63857</td></tr>\n",
       "\t<tr><td>CA</td><td>6</td><td>71</td><td>37</td><td>0</td><td>16</td><td> 39735</td><td>328500</td><td>193266</td><td>55304</td><td>⋯</td><td>89608982</td><td>    0</td><td> 5058</td><td>14565</td><td>26170</td><td>25.4</td><td>572191</td><td>   0</td><td>2856770</td><td>40351</td></tr>\n",
       "\t<tr><td>CA</td><td>6</td><td>71</td><td>38</td><td>0</td><td>16</td><td> 67287</td><td>328500</td><td> 44223</td><td>37370</td><td>⋯</td><td>89608982</td><td>    0</td><td> 7686</td><td>15246</td><td>16122</td><td>25.4</td><td>572676</td><td> 716</td><td>2856770</td><td>60868</td></tr>\n",
       "\t<tr><td>CA</td><td>6</td><td>71</td><td>39</td><td>0</td><td>16</td><td> 53299</td><td>328500</td><td> 14549</td><td>37124</td><td>⋯</td><td>47559089</td><td>    0</td><td> 8096</td><td>12176</td><td>13964</td><td>25.4</td><td>573918</td><td>   0</td><td>2856770</td><td>68732</td></tr>\n",
       "\t<tr><td>CA</td><td>6</td><td>71</td><td>40</td><td>0</td><td>16</td><td> 67885</td><td>328500</td><td> 31340</td><td>28998</td><td>⋯</td><td>      NA</td><td>  844</td><td> 8026</td><td>11306</td><td>17250</td><td>25.4</td><td>350412</td><td> 279</td><td>2856770</td><td>48370</td></tr>\n",
       "\t<tr><td>CA</td><td>6</td><td>71</td><td>41</td><td>0</td><td>16</td><td> 33439</td><td>328500</td><td> 38988</td><td>39317</td><td>⋯</td><td>      NA</td><td> 1193</td><td> 8634</td><td>11661</td><td>15306</td><td>25.4</td><td>565887</td><td>   0</td><td>2856770</td><td>61101</td></tr>\n",
       "\t<tr><td>CA</td><td>6</td><td>71</td><td>42</td><td>0</td><td>16</td><td> 41113</td><td>328500</td><td> 63399</td><td>41791</td><td>⋯</td><td>      NA</td><td>  151</td><td> 8917</td><td>13826</td><td>20618</td><td>25.4</td><td>568991</td><td>   0</td><td>2856770</td><td>54331</td></tr>\n",
       "\t<tr><td>CA</td><td>6</td><td>71</td><td>43</td><td>0</td><td>16</td><td> 48162</td><td>328500</td><td> 33605</td><td>39617</td><td>⋯</td><td>      NA</td><td> 2019</td><td> 8673</td><td> 9843</td><td>16411</td><td>25.4</td><td>439932</td><td>   0</td><td>2856770</td><td>52444</td></tr>\n",
       "\t<tr><td>CA</td><td>6</td><td>71</td><td>44</td><td>0</td><td>16</td><td>111931</td><td>328500</td><td> 29883</td><td>28369</td><td>⋯</td><td>      NA</td><td> 2322</td><td> 6309</td><td> 8140</td><td>16998</td><td>25.4</td><td>413244</td><td>   0</td><td>2856770</td><td>51647</td></tr>\n",
       "\t<tr><td>CA</td><td>6</td><td>71</td><td>45</td><td>0</td><td>16</td><td> 57621</td><td>328500</td><td>  7080</td><td>31509</td><td>⋯</td><td>      NA</td><td>    0</td><td> 8106</td><td>12779</td><td>13948</td><td>25.4</td><td>570991</td><td>   0</td><td>2856770</td><td>71968</td></tr>\n",
       "\t<tr><td>CA</td><td>6</td><td>71</td><td>46</td><td>0</td><td>16</td><td> 38992</td><td>328500</td><td> 14177</td><td>62887</td><td>⋯</td><td>      NA</td><td>    0</td><td> 4679</td><td> 9107</td><td>21492</td><td>25.4</td><td>570963</td><td>   0</td><td>2856770</td><td>57937</td></tr>\n",
       "\t<tr><td>CA</td><td>6</td><td>71</td><td>47</td><td>0</td><td>16</td><td> 61461</td><td>328500</td><td> 10395</td><td>22555</td><td>⋯</td><td>      NA</td><td>   46</td><td> 9801</td><td> 9652</td><td>10812</td><td>25.4</td><td>568981</td><td>   0</td><td>2856770</td><td>65545</td></tr>\n",
       "\t<tr><td>CA</td><td>6</td><td>71</td><td>48</td><td>0</td><td>16</td><td> 60108</td><td>328500</td><td> 23062</td><td>24946</td><td>⋯</td><td>      NA</td><td> 6333</td><td> 6152</td><td> 8014</td><td>12436</td><td>25.4</td><td>485425</td><td> 308</td><td>2856770</td><td>58041</td></tr>\n",
       "\t<tr><td>CA</td><td>6</td><td>71</td><td>49</td><td>0</td><td>16</td><td> 71244</td><td>328500</td><td> 30024</td><td>19415</td><td>⋯</td><td>      NA</td><td>    0</td><td>12574</td><td> 9186</td><td>14314</td><td>25.4</td><td>573437</td><td>   0</td><td>2856770</td><td>62206</td></tr>\n",
       "\t<tr><td>CA</td><td>6</td><td>71</td><td>50</td><td>0</td><td>16</td><td> 48002</td><td>328500</td><td> 82718</td><td>31680</td><td>⋯</td><td>      NA</td><td>   55</td><td> 7465</td><td> 8563</td><td>19639</td><td>25.4</td><td>568366</td><td>   0</td><td>2856770</td><td>51502</td></tr>\n",
       "\t<tr><td>CA</td><td>6</td><td>71</td><td>51</td><td>0</td><td>16</td><td> 65052</td><td>328500</td><td>  9333</td><td>24025</td><td>⋯</td><td>      NA</td><td> 1425</td><td> 8165</td><td> 8320</td><td>13278</td><td>25.4</td><td>553964</td><td>   0</td><td>2856770</td><td>61953</td></tr>\n",
       "\t<tr><td>CA</td><td>6</td><td>71</td><td>52</td><td>0</td><td>16</td><td> 62892</td><td>328500</td><td> 17517</td><td>28650</td><td>⋯</td><td>      NA</td><td> 1716</td><td> 9556</td><td> 8835</td><td>17812</td><td>25.4</td><td>397759</td><td>   0</td><td>2856770</td><td>58033</td></tr>\n",
       "</tbody>\n",
       "</table>\n"
      ],
      "text/latex": [
       "A data.frame: 52 × 44\n",
       "\\begin{tabular}{lllllllllllllllllllll}\n",
       " STATE & FIPSTATE & SC & CD & REDIST & ACEREGIO & AGE65 & BANK & BLACK & BLUCLLR & ⋯ & PORT & RURLFARM & STATWRKR & TRANSPRT & UNEMPLYD & UNION & URBAN & VABEDS & VETERANS & WHLRETL\\\\\n",
       " <fct> & <int> & <int> & <int> & <int> & <int> & <int> & <int> & <int> & <int> & ⋯ & <int> & <int> & <int> & <int> & <int> & <dbl> & <int> & <int> & <int> & <int>\\\\\n",
       "\\hline\n",
       "\t CA & 6 & 71 &  1 & 0 & 16 &  73678 & 328500 &  22314 & 33931 & ⋯ &       NA &  9013 & 13525 & 10173 & 16375 & 25.4 & 223333 &    0 & 2856770 & 54203\\\\\n",
       "\t CA & 6 & 71 &  2 & 0 & 16 &  89325 & 328500 &   8410 & 29098 & ⋯ &       NA &  8452 & 12293 &  8040 & 18987 & 25.4 & 185449 &    0 & 2856770 & 48240\\\\\n",
       "\t CA & 6 & 71 &  3 & 0 & 16 &  62802 & 328500 &  18530 & 31865 & ⋯ &       NA & 14034 & 27035 & 11269 & 17972 & 25.4 & 363204 &    0 & 2856770 & 55878\\\\\n",
       "\t CA & 6 & 71 &  4 & 0 & 16 &  68906 & 328500 &   9538 & 28055 & ⋯ &       NA &  3828 & 16565 &  9167 & 13102 & 25.4 & 224927 &    0 & 2856770 & 56799\\\\\n",
       "\t CA & 6 & 71 &  5 & 0 & 16 &  65194 & 328500 &  73429 & 27190 & ⋯ &       NA &    12 & 41385 & 10249 & 17155 & 25.4 & 570923 &    0 & 2856770 & 52775\\\\\n",
       "\t CA & 6 & 71 &  6 & 0 & 16 &  74726 & 328500 &  13279 & 26062 & ⋯ &       NA &  5232 &  9988 & 11098 & 11759 & 25.4 & 392810 &    0 & 2856770 & 61612\\\\\n",
       "\t CA & 6 & 71 &  7 & 0 & 16 &  58806 & 328500 &  95228 & 30372 & ⋯ &       NA &     0 & 10357 & 15332 & 16843 & 25.4 & 571018 &    0 & 2856770 & 56550\\\\\n",
       "\t CA & 6 & 71 &  8 & 0 & 16 &  78265 & 328500 &  73442 & 29165 & ⋯ &       NA &     0 &  9719 & 17742 & 20019 & 25.4 & 573192 &    0 & 2856770 & 65324\\\\\n",
       "\t CA & 6 & 71 &  9 & 0 & 16 &  68177 & 328500 & 182452 & 25888 & ⋯ &       NA &     0 & 18917 & 14539 & 19809 & 25.4 & 573669 &    0 & 2856770 & 47100\\\\\n",
       "\t CA & 6 & 71 & 10 & 0 & 16 &  59873 & 328500 &  12917 & 22611 & ⋯ &       NA &  1065 &  9821 & 12133 & 10953 & 25.4 & 549252 &   61 & 2856770 & 63941\\\\\n",
       "\t CA & 6 & 71 & 11 & 0 & 16 &  61404 & 328500 &  32885 & 38168 & ⋯ &       NA & 11843 & 12437 & 12088 & 19686 & 25.4 & 381903 &    0 & 2856770 & 50957\\\\\n",
       "\t CA & 6 & 71 & 12 & 0 & 16 &  79171 & 328500 &  22766 & 27843 & ⋯ &       NA &     0 &  9619 & 25764 & 12532 & 25.4 & 571620 &    0 & 2856770 & 67610\\\\\n",
       "\t CA & 6 & 71 & 13 & 0 & 16 &  53092 & 328500 &  42060 & 42257 & ⋯ &       NA &     0 &  6954 & 19707 & 14691 & 25.4 & 571615 &    0 & 2856770 & 66127\\\\\n",
       "\t CA & 6 & 71 & 14 & 0 & 16 &  64756 & 328500 &  27980 & 21547 & ⋯ &       NA &   239 &  4177 &  9863 & 11251 & 25.4 & 562365 & 1371 & 2856770 & 55752\\\\\n",
       "\t CA & 6 & 71 & 15 & 0 & 16 &  54148 & 328500 &  12273 & 25931 & ⋯ &       NA &   521 &  6180 &  9603 & 11866 & 25.4 & 549185 &    0 & 2856770 & 62424\\\\\n",
       "\t CA & 6 & 71 & 16 & 0 & 16 &  39768 & 328500 &  29545 & 44852 & ⋯ &       NA &  1835 &  6643 & 10554 & 18597 & 25.4 & 516861 &    0 & 2856770 & 52640\\\\\n",
       "\t CA & 6 & 71 & 17 & 0 & 16 &  59816 & 328500 &  24991 & 30290 & ⋯ &       NA &  5687 & 10451 &  7374 & 18759 & 25.4 & 424528 &    0 & 2856770 & 54779\\\\\n",
       "\t CA & 6 & 71 & 18 & 0 & 16 &  58580 & 328500 &  16007 & 39496 & ⋯ &       NA & 23357 &  6420 &  8722 & 23697 & 25.4 & 295716 &    0 & 2856770 & 46733\\\\\n",
       "\t CA & 6 & 71 & 19 & 0 & 16 &  63916 & 328500 &  18724 & 29058 & ⋯ &       NA & 11598 & 11266 &  9812 & 17712 & 25.4 & 391289 &  168 & 2856770 & 53640\\\\\n",
       "\t CA & 6 & 71 & 20 & 0 & 16 &  49611 & 328500 &  36656 & 32447 & ⋯ &       NA & 23187 &  6978 &  6876 & 33350 & 25.4 & 149984 &    0 & 2856770 & 35097\\\\\n",
       "\t CA & 6 & 71 & 21 & 0 & 16 &  61313 & 328500 &  22676 & 30894 & ⋯ &       NA &  4436 & 10021 &  9679 & 17612 & 25.4 & 298113 &    0 & 2856770 & 51401\\\\\n",
       "\t CA & 6 & 71 & 22 & 0 & 16 &  74192 & 328500 &  15778 & 26631 & ⋯ &       NA &  5085 & 19897 &  6957 & 13990 & 25.4 & 365081 &    0 & 2856770 & 56427\\\\\n",
       "\t CA & 6 & 71 & 23 & 0 & 16 &  54113 & 328500 &  14423 & 35195 & ⋯ &       NA &  4194 &  7896 &  7910 & 13361 & 25.4 & 481126 &    0 & 2856770 & 55425\\\\\n",
       "\t CA & 6 & 71 & 24 & 0 & 16 &  63493 & 328500 &  11384 & 22166 & ⋯ & 42049893 &   344 &  5145 &  8463 & 13976 & 25.4 & 556006 &    0 & 2856770 & 65325\\\\\n",
       "\t CA & 6 & 71 & 25 & 0 & 16 &  43152 & 328500 &  25864 & 26610 & ⋯ & 42049893 &   810 &  6970 &  9213 & 14237 & 25.4 & 506718 &  909 & 2856770 & 57774\\\\\n",
       "\t CA & 6 & 71 & 26 & 0 & 16 &  44779 & 328500 &  35106 & 56456 & ⋯ & 42049893 &     0 &  4575 &  9459 & 22638 & 25.4 & 571538 &    0 & 2856770 & 55426\\\\\n",
       "\t CA & 6 & 71 & 27 & 0 & 16 &  74115 & 328500 &  46921 & 25090 & ⋯ & 42049893 &     0 &  5632 &  8897 & 16222 & 25.4 & 571947 &    0 & 2856770 & 51699\\\\\n",
       "\t CA & 6 & 71 & 28 & 0 & 16 &  62595 & 328500 &  32621 & 30624 & ⋯ &       NA &     0 &  8004 & 11386 & 13358 & 25.4 & 571426 &    0 & 2856770 & 59301\\\\\n",
       "\t CA & 6 & 71 & 29 & 0 & 16 &  91269 & 328500 &  19825 & 15678 & ⋯ & 42049893 &     0 & 12260 &  8247 & 18454 & 25.4 & 571386 &    0 & 2856770 & 59150\\\\\n",
       "\t CA & 6 & 71 & 30 & 0 & 16 &  45691 & 328500 &  19738 & 54562 & ⋯ & 42049893 &     0 &  4355 &  9454 & 27538 & 25.4 & 572604 &    0 & 2856770 & 59265\\\\\n",
       "\t CA & 6 & 71 & 31 & 0 & 16 &  51177 & 328500 &   9398 & 56388 & ⋯ & 42049893 &     0 &  5863 & 10569 & 20376 & 25.4 & 572735 &    0 & 2856770 & 56064\\\\\n",
       "\t CA & 6 & 71 & 32 & 0 & 16 &  65453 & 328500 & 231149 & 35975 & ⋯ & 42049893 &     0 & 10126 & 13321 & 24063 & 25.4 & 572630 &    0 & 2856770 & 49698\\\\\n",
       "\t CA & 6 & 71 & 33 & 0 & 16 &  36912 & 328500 &  24583 & 83517 & ⋯ & 42049893 &     0 &  3108 &  9108 & 29042 & 25.4 & 570893 &    0 & 2856770 & 49248\\\\\n",
       "\t CA & 6 & 71 & 34 & 0 & 16 &  50565 & 328500 &  11212 & 55415 & ⋯ &       NA &     0 &  6255 & 13773 & 18726 & 25.4 & 573456 &    0 & 2856770 & 58985\\\\\n",
       "\t CA & 6 & 71 & 35 & 0 & 16 &  41810 & 328500 & 243818 & 51943 & ⋯ & 42049893 &     0 &  5395 & 17325 & 27854 & 25.4 & 570697 &    0 & 2856770 & 43269\\\\\n",
       "\t CA & 6 & 71 & 36 & 0 & 16 &  59434 & 328500 &  17844 & 23059 & ⋯ & 42049893 &     0 &  5661 & 20054 & 13235 & 25.4 & 570181 &    0 & 2856770 & 63857\\\\\n",
       "\t CA & 6 & 71 & 37 & 0 & 16 &  39735 & 328500 & 193266 & 55304 & ⋯ & 89608982 &     0 &  5058 & 14565 & 26170 & 25.4 & 572191 &    0 & 2856770 & 40351\\\\\n",
       "\t CA & 6 & 71 & 38 & 0 & 16 &  67287 & 328500 &  44223 & 37370 & ⋯ & 89608982 &     0 &  7686 & 15246 & 16122 & 25.4 & 572676 &  716 & 2856770 & 60868\\\\\n",
       "\t CA & 6 & 71 & 39 & 0 & 16 &  53299 & 328500 &  14549 & 37124 & ⋯ & 47559089 &     0 &  8096 & 12176 & 13964 & 25.4 & 573918 &    0 & 2856770 & 68732\\\\\n",
       "\t CA & 6 & 71 & 40 & 0 & 16 &  67885 & 328500 &  31340 & 28998 & ⋯ &       NA &   844 &  8026 & 11306 & 17250 & 25.4 & 350412 &  279 & 2856770 & 48370\\\\\n",
       "\t CA & 6 & 71 & 41 & 0 & 16 &  33439 & 328500 &  38988 & 39317 & ⋯ &       NA &  1193 &  8634 & 11661 & 15306 & 25.4 & 565887 &    0 & 2856770 & 61101\\\\\n",
       "\t CA & 6 & 71 & 42 & 0 & 16 &  41113 & 328500 &  63399 & 41791 & ⋯ &       NA &   151 &  8917 & 13826 & 20618 & 25.4 & 568991 &    0 & 2856770 & 54331\\\\\n",
       "\t CA & 6 & 71 & 43 & 0 & 16 &  48162 & 328500 &  33605 & 39617 & ⋯ &       NA &  2019 &  8673 &  9843 & 16411 & 25.4 & 439932 &    0 & 2856770 & 52444\\\\\n",
       "\t CA & 6 & 71 & 44 & 0 & 16 & 111931 & 328500 &  29883 & 28369 & ⋯ &       NA &  2322 &  6309 &  8140 & 16998 & 25.4 & 413244 &    0 & 2856770 & 51647\\\\\n",
       "\t CA & 6 & 71 & 45 & 0 & 16 &  57621 & 328500 &   7080 & 31509 & ⋯ &       NA &     0 &  8106 & 12779 & 13948 & 25.4 & 570991 &    0 & 2856770 & 71968\\\\\n",
       "\t CA & 6 & 71 & 46 & 0 & 16 &  38992 & 328500 &  14177 & 62887 & ⋯ &       NA &     0 &  4679 &  9107 & 21492 & 25.4 & 570963 &    0 & 2856770 & 57937\\\\\n",
       "\t CA & 6 & 71 & 47 & 0 & 16 &  61461 & 328500 &  10395 & 22555 & ⋯ &       NA &    46 &  9801 &  9652 & 10812 & 25.4 & 568981 &    0 & 2856770 & 65545\\\\\n",
       "\t CA & 6 & 71 & 48 & 0 & 16 &  60108 & 328500 &  23062 & 24946 & ⋯ &       NA &  6333 &  6152 &  8014 & 12436 & 25.4 & 485425 &  308 & 2856770 & 58041\\\\\n",
       "\t CA & 6 & 71 & 49 & 0 & 16 &  71244 & 328500 &  30024 & 19415 & ⋯ &       NA &     0 & 12574 &  9186 & 14314 & 25.4 & 573437 &    0 & 2856770 & 62206\\\\\n",
       "\t CA & 6 & 71 & 50 & 0 & 16 &  48002 & 328500 &  82718 & 31680 & ⋯ &       NA &    55 &  7465 &  8563 & 19639 & 25.4 & 568366 &    0 & 2856770 & 51502\\\\\n",
       "\t CA & 6 & 71 & 51 & 0 & 16 &  65052 & 328500 &   9333 & 24025 & ⋯ &       NA &  1425 &  8165 &  8320 & 13278 & 25.4 & 553964 &    0 & 2856770 & 61953\\\\\n",
       "\t CA & 6 & 71 & 52 & 0 & 16 &  62892 & 328500 &  17517 & 28650 & ⋯ &       NA &  1716 &  9556 &  8835 & 17812 & 25.4 & 397759 &    0 & 2856770 & 58033\\\\\n",
       "\\end{tabular}\n"
      ],
      "text/markdown": [
       "\n",
       "A data.frame: 52 × 44\n",
       "\n",
       "| STATE &lt;fct&gt; | FIPSTATE &lt;int&gt; | SC &lt;int&gt; | CD &lt;int&gt; | REDIST &lt;int&gt; | ACEREGIO &lt;int&gt; | AGE65 &lt;int&gt; | BANK &lt;int&gt; | BLACK &lt;int&gt; | BLUCLLR &lt;int&gt; | ⋯ ⋯ | PORT &lt;int&gt; | RURLFARM &lt;int&gt; | STATWRKR &lt;int&gt; | TRANSPRT &lt;int&gt; | UNEMPLYD &lt;int&gt; | UNION &lt;dbl&gt; | URBAN &lt;int&gt; | VABEDS &lt;int&gt; | VETERANS &lt;int&gt; | WHLRETL &lt;int&gt; |\n",
       "|---|---|---|---|---|---|---|---|---|---|---|---|---|---|---|---|---|---|---|---|---|\n",
       "| CA | 6 | 71 |  1 | 0 | 16 |  73678 | 328500 |  22314 | 33931 | ⋯ |       NA |  9013 | 13525 | 10173 | 16375 | 25.4 | 223333 |    0 | 2856770 | 54203 |\n",
       "| CA | 6 | 71 |  2 | 0 | 16 |  89325 | 328500 |   8410 | 29098 | ⋯ |       NA |  8452 | 12293 |  8040 | 18987 | 25.4 | 185449 |    0 | 2856770 | 48240 |\n",
       "| CA | 6 | 71 |  3 | 0 | 16 |  62802 | 328500 |  18530 | 31865 | ⋯ |       NA | 14034 | 27035 | 11269 | 17972 | 25.4 | 363204 |    0 | 2856770 | 55878 |\n",
       "| CA | 6 | 71 |  4 | 0 | 16 |  68906 | 328500 |   9538 | 28055 | ⋯ |       NA |  3828 | 16565 |  9167 | 13102 | 25.4 | 224927 |    0 | 2856770 | 56799 |\n",
       "| CA | 6 | 71 |  5 | 0 | 16 |  65194 | 328500 |  73429 | 27190 | ⋯ |       NA |    12 | 41385 | 10249 | 17155 | 25.4 | 570923 |    0 | 2856770 | 52775 |\n",
       "| CA | 6 | 71 |  6 | 0 | 16 |  74726 | 328500 |  13279 | 26062 | ⋯ |       NA |  5232 |  9988 | 11098 | 11759 | 25.4 | 392810 |    0 | 2856770 | 61612 |\n",
       "| CA | 6 | 71 |  7 | 0 | 16 |  58806 | 328500 |  95228 | 30372 | ⋯ |       NA |     0 | 10357 | 15332 | 16843 | 25.4 | 571018 |    0 | 2856770 | 56550 |\n",
       "| CA | 6 | 71 |  8 | 0 | 16 |  78265 | 328500 |  73442 | 29165 | ⋯ |       NA |     0 |  9719 | 17742 | 20019 | 25.4 | 573192 |    0 | 2856770 | 65324 |\n",
       "| CA | 6 | 71 |  9 | 0 | 16 |  68177 | 328500 | 182452 | 25888 | ⋯ |       NA |     0 | 18917 | 14539 | 19809 | 25.4 | 573669 |    0 | 2856770 | 47100 |\n",
       "| CA | 6 | 71 | 10 | 0 | 16 |  59873 | 328500 |  12917 | 22611 | ⋯ |       NA |  1065 |  9821 | 12133 | 10953 | 25.4 | 549252 |   61 | 2856770 | 63941 |\n",
       "| CA | 6 | 71 | 11 | 0 | 16 |  61404 | 328500 |  32885 | 38168 | ⋯ |       NA | 11843 | 12437 | 12088 | 19686 | 25.4 | 381903 |    0 | 2856770 | 50957 |\n",
       "| CA | 6 | 71 | 12 | 0 | 16 |  79171 | 328500 |  22766 | 27843 | ⋯ |       NA |     0 |  9619 | 25764 | 12532 | 25.4 | 571620 |    0 | 2856770 | 67610 |\n",
       "| CA | 6 | 71 | 13 | 0 | 16 |  53092 | 328500 |  42060 | 42257 | ⋯ |       NA |     0 |  6954 | 19707 | 14691 | 25.4 | 571615 |    0 | 2856770 | 66127 |\n",
       "| CA | 6 | 71 | 14 | 0 | 16 |  64756 | 328500 |  27980 | 21547 | ⋯ |       NA |   239 |  4177 |  9863 | 11251 | 25.4 | 562365 | 1371 | 2856770 | 55752 |\n",
       "| CA | 6 | 71 | 15 | 0 | 16 |  54148 | 328500 |  12273 | 25931 | ⋯ |       NA |   521 |  6180 |  9603 | 11866 | 25.4 | 549185 |    0 | 2856770 | 62424 |\n",
       "| CA | 6 | 71 | 16 | 0 | 16 |  39768 | 328500 |  29545 | 44852 | ⋯ |       NA |  1835 |  6643 | 10554 | 18597 | 25.4 | 516861 |    0 | 2856770 | 52640 |\n",
       "| CA | 6 | 71 | 17 | 0 | 16 |  59816 | 328500 |  24991 | 30290 | ⋯ |       NA |  5687 | 10451 |  7374 | 18759 | 25.4 | 424528 |    0 | 2856770 | 54779 |\n",
       "| CA | 6 | 71 | 18 | 0 | 16 |  58580 | 328500 |  16007 | 39496 | ⋯ |       NA | 23357 |  6420 |  8722 | 23697 | 25.4 | 295716 |    0 | 2856770 | 46733 |\n",
       "| CA | 6 | 71 | 19 | 0 | 16 |  63916 | 328500 |  18724 | 29058 | ⋯ |       NA | 11598 | 11266 |  9812 | 17712 | 25.4 | 391289 |  168 | 2856770 | 53640 |\n",
       "| CA | 6 | 71 | 20 | 0 | 16 |  49611 | 328500 |  36656 | 32447 | ⋯ |       NA | 23187 |  6978 |  6876 | 33350 | 25.4 | 149984 |    0 | 2856770 | 35097 |\n",
       "| CA | 6 | 71 | 21 | 0 | 16 |  61313 | 328500 |  22676 | 30894 | ⋯ |       NA |  4436 | 10021 |  9679 | 17612 | 25.4 | 298113 |    0 | 2856770 | 51401 |\n",
       "| CA | 6 | 71 | 22 | 0 | 16 |  74192 | 328500 |  15778 | 26631 | ⋯ |       NA |  5085 | 19897 |  6957 | 13990 | 25.4 | 365081 |    0 | 2856770 | 56427 |\n",
       "| CA | 6 | 71 | 23 | 0 | 16 |  54113 | 328500 |  14423 | 35195 | ⋯ |       NA |  4194 |  7896 |  7910 | 13361 | 25.4 | 481126 |    0 | 2856770 | 55425 |\n",
       "| CA | 6 | 71 | 24 | 0 | 16 |  63493 | 328500 |  11384 | 22166 | ⋯ | 42049893 |   344 |  5145 |  8463 | 13976 | 25.4 | 556006 |    0 | 2856770 | 65325 |\n",
       "| CA | 6 | 71 | 25 | 0 | 16 |  43152 | 328500 |  25864 | 26610 | ⋯ | 42049893 |   810 |  6970 |  9213 | 14237 | 25.4 | 506718 |  909 | 2856770 | 57774 |\n",
       "| CA | 6 | 71 | 26 | 0 | 16 |  44779 | 328500 |  35106 | 56456 | ⋯ | 42049893 |     0 |  4575 |  9459 | 22638 | 25.4 | 571538 |    0 | 2856770 | 55426 |\n",
       "| CA | 6 | 71 | 27 | 0 | 16 |  74115 | 328500 |  46921 | 25090 | ⋯ | 42049893 |     0 |  5632 |  8897 | 16222 | 25.4 | 571947 |    0 | 2856770 | 51699 |\n",
       "| CA | 6 | 71 | 28 | 0 | 16 |  62595 | 328500 |  32621 | 30624 | ⋯ |       NA |     0 |  8004 | 11386 | 13358 | 25.4 | 571426 |    0 | 2856770 | 59301 |\n",
       "| CA | 6 | 71 | 29 | 0 | 16 |  91269 | 328500 |  19825 | 15678 | ⋯ | 42049893 |     0 | 12260 |  8247 | 18454 | 25.4 | 571386 |    0 | 2856770 | 59150 |\n",
       "| CA | 6 | 71 | 30 | 0 | 16 |  45691 | 328500 |  19738 | 54562 | ⋯ | 42049893 |     0 |  4355 |  9454 | 27538 | 25.4 | 572604 |    0 | 2856770 | 59265 |\n",
       "| CA | 6 | 71 | 31 | 0 | 16 |  51177 | 328500 |   9398 | 56388 | ⋯ | 42049893 |     0 |  5863 | 10569 | 20376 | 25.4 | 572735 |    0 | 2856770 | 56064 |\n",
       "| CA | 6 | 71 | 32 | 0 | 16 |  65453 | 328500 | 231149 | 35975 | ⋯ | 42049893 |     0 | 10126 | 13321 | 24063 | 25.4 | 572630 |    0 | 2856770 | 49698 |\n",
       "| CA | 6 | 71 | 33 | 0 | 16 |  36912 | 328500 |  24583 | 83517 | ⋯ | 42049893 |     0 |  3108 |  9108 | 29042 | 25.4 | 570893 |    0 | 2856770 | 49248 |\n",
       "| CA | 6 | 71 | 34 | 0 | 16 |  50565 | 328500 |  11212 | 55415 | ⋯ |       NA |     0 |  6255 | 13773 | 18726 | 25.4 | 573456 |    0 | 2856770 | 58985 |\n",
       "| CA | 6 | 71 | 35 | 0 | 16 |  41810 | 328500 | 243818 | 51943 | ⋯ | 42049893 |     0 |  5395 | 17325 | 27854 | 25.4 | 570697 |    0 | 2856770 | 43269 |\n",
       "| CA | 6 | 71 | 36 | 0 | 16 |  59434 | 328500 |  17844 | 23059 | ⋯ | 42049893 |     0 |  5661 | 20054 | 13235 | 25.4 | 570181 |    0 | 2856770 | 63857 |\n",
       "| CA | 6 | 71 | 37 | 0 | 16 |  39735 | 328500 | 193266 | 55304 | ⋯ | 89608982 |     0 |  5058 | 14565 | 26170 | 25.4 | 572191 |    0 | 2856770 | 40351 |\n",
       "| CA | 6 | 71 | 38 | 0 | 16 |  67287 | 328500 |  44223 | 37370 | ⋯ | 89608982 |     0 |  7686 | 15246 | 16122 | 25.4 | 572676 |  716 | 2856770 | 60868 |\n",
       "| CA | 6 | 71 | 39 | 0 | 16 |  53299 | 328500 |  14549 | 37124 | ⋯ | 47559089 |     0 |  8096 | 12176 | 13964 | 25.4 | 573918 |    0 | 2856770 | 68732 |\n",
       "| CA | 6 | 71 | 40 | 0 | 16 |  67885 | 328500 |  31340 | 28998 | ⋯ |       NA |   844 |  8026 | 11306 | 17250 | 25.4 | 350412 |  279 | 2856770 | 48370 |\n",
       "| CA | 6 | 71 | 41 | 0 | 16 |  33439 | 328500 |  38988 | 39317 | ⋯ |       NA |  1193 |  8634 | 11661 | 15306 | 25.4 | 565887 |    0 | 2856770 | 61101 |\n",
       "| CA | 6 | 71 | 42 | 0 | 16 |  41113 | 328500 |  63399 | 41791 | ⋯ |       NA |   151 |  8917 | 13826 | 20618 | 25.4 | 568991 |    0 | 2856770 | 54331 |\n",
       "| CA | 6 | 71 | 43 | 0 | 16 |  48162 | 328500 |  33605 | 39617 | ⋯ |       NA |  2019 |  8673 |  9843 | 16411 | 25.4 | 439932 |    0 | 2856770 | 52444 |\n",
       "| CA | 6 | 71 | 44 | 0 | 16 | 111931 | 328500 |  29883 | 28369 | ⋯ |       NA |  2322 |  6309 |  8140 | 16998 | 25.4 | 413244 |    0 | 2856770 | 51647 |\n",
       "| CA | 6 | 71 | 45 | 0 | 16 |  57621 | 328500 |   7080 | 31509 | ⋯ |       NA |     0 |  8106 | 12779 | 13948 | 25.4 | 570991 |    0 | 2856770 | 71968 |\n",
       "| CA | 6 | 71 | 46 | 0 | 16 |  38992 | 328500 |  14177 | 62887 | ⋯ |       NA |     0 |  4679 |  9107 | 21492 | 25.4 | 570963 |    0 | 2856770 | 57937 |\n",
       "| CA | 6 | 71 | 47 | 0 | 16 |  61461 | 328500 |  10395 | 22555 | ⋯ |       NA |    46 |  9801 |  9652 | 10812 | 25.4 | 568981 |    0 | 2856770 | 65545 |\n",
       "| CA | 6 | 71 | 48 | 0 | 16 |  60108 | 328500 |  23062 | 24946 | ⋯ |       NA |  6333 |  6152 |  8014 | 12436 | 25.4 | 485425 |  308 | 2856770 | 58041 |\n",
       "| CA | 6 | 71 | 49 | 0 | 16 |  71244 | 328500 |  30024 | 19415 | ⋯ |       NA |     0 | 12574 |  9186 | 14314 | 25.4 | 573437 |    0 | 2856770 | 62206 |\n",
       "| CA | 6 | 71 | 50 | 0 | 16 |  48002 | 328500 |  82718 | 31680 | ⋯ |       NA |    55 |  7465 |  8563 | 19639 | 25.4 | 568366 |    0 | 2856770 | 51502 |\n",
       "| CA | 6 | 71 | 51 | 0 | 16 |  65052 | 328500 |   9333 | 24025 | ⋯ |       NA |  1425 |  8165 |  8320 | 13278 | 25.4 | 553964 |    0 | 2856770 | 61953 |\n",
       "| CA | 6 | 71 | 52 | 0 | 16 |  62892 | 328500 |  17517 | 28650 | ⋯ |       NA |  1716 |  9556 |  8835 | 17812 | 25.4 | 397759 |    0 | 2856770 | 58033 |\n",
       "\n"
      ],
      "text/plain": [
       "   STATE FIPSTATE SC CD REDIST ACEREGIO AGE65  BANK   BLACK  BLUCLLR ⋯ PORT    \n",
       "1  CA    6        71  1 0      16        73678 328500  22314 33931   ⋯       NA\n",
       "2  CA    6        71  2 0      16        89325 328500   8410 29098   ⋯       NA\n",
       "3  CA    6        71  3 0      16        62802 328500  18530 31865   ⋯       NA\n",
       "4  CA    6        71  4 0      16        68906 328500   9538 28055   ⋯       NA\n",
       "5  CA    6        71  5 0      16        65194 328500  73429 27190   ⋯       NA\n",
       "6  CA    6        71  6 0      16        74726 328500  13279 26062   ⋯       NA\n",
       "7  CA    6        71  7 0      16        58806 328500  95228 30372   ⋯       NA\n",
       "8  CA    6        71  8 0      16        78265 328500  73442 29165   ⋯       NA\n",
       "9  CA    6        71  9 0      16        68177 328500 182452 25888   ⋯       NA\n",
       "10 CA    6        71 10 0      16        59873 328500  12917 22611   ⋯       NA\n",
       "11 CA    6        71 11 0      16        61404 328500  32885 38168   ⋯       NA\n",
       "12 CA    6        71 12 0      16        79171 328500  22766 27843   ⋯       NA\n",
       "13 CA    6        71 13 0      16        53092 328500  42060 42257   ⋯       NA\n",
       "14 CA    6        71 14 0      16        64756 328500  27980 21547   ⋯       NA\n",
       "15 CA    6        71 15 0      16        54148 328500  12273 25931   ⋯       NA\n",
       "16 CA    6        71 16 0      16        39768 328500  29545 44852   ⋯       NA\n",
       "17 CA    6        71 17 0      16        59816 328500  24991 30290   ⋯       NA\n",
       "18 CA    6        71 18 0      16        58580 328500  16007 39496   ⋯       NA\n",
       "19 CA    6        71 19 0      16        63916 328500  18724 29058   ⋯       NA\n",
       "20 CA    6        71 20 0      16        49611 328500  36656 32447   ⋯       NA\n",
       "21 CA    6        71 21 0      16        61313 328500  22676 30894   ⋯       NA\n",
       "22 CA    6        71 22 0      16        74192 328500  15778 26631   ⋯       NA\n",
       "23 CA    6        71 23 0      16        54113 328500  14423 35195   ⋯       NA\n",
       "24 CA    6        71 24 0      16        63493 328500  11384 22166   ⋯ 42049893\n",
       "25 CA    6        71 25 0      16        43152 328500  25864 26610   ⋯ 42049893\n",
       "26 CA    6        71 26 0      16        44779 328500  35106 56456   ⋯ 42049893\n",
       "27 CA    6        71 27 0      16        74115 328500  46921 25090   ⋯ 42049893\n",
       "28 CA    6        71 28 0      16        62595 328500  32621 30624   ⋯       NA\n",
       "29 CA    6        71 29 0      16        91269 328500  19825 15678   ⋯ 42049893\n",
       "30 CA    6        71 30 0      16        45691 328500  19738 54562   ⋯ 42049893\n",
       "31 CA    6        71 31 0      16        51177 328500   9398 56388   ⋯ 42049893\n",
       "32 CA    6        71 32 0      16        65453 328500 231149 35975   ⋯ 42049893\n",
       "33 CA    6        71 33 0      16        36912 328500  24583 83517   ⋯ 42049893\n",
       "34 CA    6        71 34 0      16        50565 328500  11212 55415   ⋯       NA\n",
       "35 CA    6        71 35 0      16        41810 328500 243818 51943   ⋯ 42049893\n",
       "36 CA    6        71 36 0      16        59434 328500  17844 23059   ⋯ 42049893\n",
       "37 CA    6        71 37 0      16        39735 328500 193266 55304   ⋯ 89608982\n",
       "38 CA    6        71 38 0      16        67287 328500  44223 37370   ⋯ 89608982\n",
       "39 CA    6        71 39 0      16        53299 328500  14549 37124   ⋯ 47559089\n",
       "40 CA    6        71 40 0      16        67885 328500  31340 28998   ⋯       NA\n",
       "41 CA    6        71 41 0      16        33439 328500  38988 39317   ⋯       NA\n",
       "42 CA    6        71 42 0      16        41113 328500  63399 41791   ⋯       NA\n",
       "43 CA    6        71 43 0      16        48162 328500  33605 39617   ⋯       NA\n",
       "44 CA    6        71 44 0      16       111931 328500  29883 28369   ⋯       NA\n",
       "45 CA    6        71 45 0      16        57621 328500   7080 31509   ⋯       NA\n",
       "46 CA    6        71 46 0      16        38992 328500  14177 62887   ⋯       NA\n",
       "47 CA    6        71 47 0      16        61461 328500  10395 22555   ⋯       NA\n",
       "48 CA    6        71 48 0      16        60108 328500  23062 24946   ⋯       NA\n",
       "49 CA    6        71 49 0      16        71244 328500  30024 19415   ⋯       NA\n",
       "50 CA    6        71 50 0      16        48002 328500  82718 31680   ⋯       NA\n",
       "51 CA    6        71 51 0      16        65052 328500   9333 24025   ⋯       NA\n",
       "52 CA    6        71 52 0      16        62892 328500  17517 28650   ⋯       NA\n",
       "   RURLFARM STATWRKR TRANSPRT UNEMPLYD UNION URBAN  VABEDS VETERANS WHLRETL\n",
       "1   9013    13525    10173    16375    25.4  223333    0   2856770  54203  \n",
       "2   8452    12293     8040    18987    25.4  185449    0   2856770  48240  \n",
       "3  14034    27035    11269    17972    25.4  363204    0   2856770  55878  \n",
       "4   3828    16565     9167    13102    25.4  224927    0   2856770  56799  \n",
       "5     12    41385    10249    17155    25.4  570923    0   2856770  52775  \n",
       "6   5232     9988    11098    11759    25.4  392810    0   2856770  61612  \n",
       "7      0    10357    15332    16843    25.4  571018    0   2856770  56550  \n",
       "8      0     9719    17742    20019    25.4  573192    0   2856770  65324  \n",
       "9      0    18917    14539    19809    25.4  573669    0   2856770  47100  \n",
       "10  1065     9821    12133    10953    25.4  549252   61   2856770  63941  \n",
       "11 11843    12437    12088    19686    25.4  381903    0   2856770  50957  \n",
       "12     0     9619    25764    12532    25.4  571620    0   2856770  67610  \n",
       "13     0     6954    19707    14691    25.4  571615    0   2856770  66127  \n",
       "14   239     4177     9863    11251    25.4  562365 1371   2856770  55752  \n",
       "15   521     6180     9603    11866    25.4  549185    0   2856770  62424  \n",
       "16  1835     6643    10554    18597    25.4  516861    0   2856770  52640  \n",
       "17  5687    10451     7374    18759    25.4  424528    0   2856770  54779  \n",
       "18 23357     6420     8722    23697    25.4  295716    0   2856770  46733  \n",
       "19 11598    11266     9812    17712    25.4  391289  168   2856770  53640  \n",
       "20 23187     6978     6876    33350    25.4  149984    0   2856770  35097  \n",
       "21  4436    10021     9679    17612    25.4  298113    0   2856770  51401  \n",
       "22  5085    19897     6957    13990    25.4  365081    0   2856770  56427  \n",
       "23  4194     7896     7910    13361    25.4  481126    0   2856770  55425  \n",
       "24   344     5145     8463    13976    25.4  556006    0   2856770  65325  \n",
       "25   810     6970     9213    14237    25.4  506718  909   2856770  57774  \n",
       "26     0     4575     9459    22638    25.4  571538    0   2856770  55426  \n",
       "27     0     5632     8897    16222    25.4  571947    0   2856770  51699  \n",
       "28     0     8004    11386    13358    25.4  571426    0   2856770  59301  \n",
       "29     0    12260     8247    18454    25.4  571386    0   2856770  59150  \n",
       "30     0     4355     9454    27538    25.4  572604    0   2856770  59265  \n",
       "31     0     5863    10569    20376    25.4  572735    0   2856770  56064  \n",
       "32     0    10126    13321    24063    25.4  572630    0   2856770  49698  \n",
       "33     0     3108     9108    29042    25.4  570893    0   2856770  49248  \n",
       "34     0     6255    13773    18726    25.4  573456    0   2856770  58985  \n",
       "35     0     5395    17325    27854    25.4  570697    0   2856770  43269  \n",
       "36     0     5661    20054    13235    25.4  570181    0   2856770  63857  \n",
       "37     0     5058    14565    26170    25.4  572191    0   2856770  40351  \n",
       "38     0     7686    15246    16122    25.4  572676  716   2856770  60868  \n",
       "39     0     8096    12176    13964    25.4  573918    0   2856770  68732  \n",
       "40   844     8026    11306    17250    25.4  350412  279   2856770  48370  \n",
       "41  1193     8634    11661    15306    25.4  565887    0   2856770  61101  \n",
       "42   151     8917    13826    20618    25.4  568991    0   2856770  54331  \n",
       "43  2019     8673     9843    16411    25.4  439932    0   2856770  52444  \n",
       "44  2322     6309     8140    16998    25.4  413244    0   2856770  51647  \n",
       "45     0     8106    12779    13948    25.4  570991    0   2856770  71968  \n",
       "46     0     4679     9107    21492    25.4  570963    0   2856770  57937  \n",
       "47    46     9801     9652    10812    25.4  568981    0   2856770  65545  \n",
       "48  6333     6152     8014    12436    25.4  485425  308   2856770  58041  \n",
       "49     0    12574     9186    14314    25.4  573437    0   2856770  62206  \n",
       "50    55     7465     8563    19639    25.4  568366    0   2856770  51502  \n",
       "51  1425     8165     8320    13278    25.4  553964    0   2856770  61953  \n",
       "52  1716     9556     8835    17812    25.4  397759    0   2856770  58033  "
      ]
     },
     "metadata": {},
     "output_type": "display_data"
    }
   ],
   "source": [
    "read.csv(\"intro_data.csv\")"
   ]
  },
  {
   "cell_type": "markdown",
   "id": "52d1a656-639f-45fb-921d-84aa21bd436c",
   "metadata": {},
   "source": [
    "Yay, we imported our data! But...we didn't save it to an object!"
   ]
  },
  {
   "cell_type": "code",
   "execution_count": 6,
   "id": "940983a7-3272-4001-8bab-908253704a76",
   "metadata": {},
   "outputs": [],
   "source": [
    "first.data <- read.csv(\"intro_data.csv\")"
   ]
  },
  {
   "cell_type": "markdown",
   "id": "d7a3d87b-dc79-4283-b166-346cdfa872e0",
   "metadata": {},
   "source": [
    "Now our data is saved in an object called `first.data`. This makes it easy to use for analysis. Let's use this data to answer some questions together:\n",
    "\n",
    "1. What does each row of data describe?"
   ]
  },
  {
   "cell_type": "code",
   "execution_count": null,
   "id": "8ccf7315-eb42-4f9c-bf67-a7f072c4d9f0",
   "metadata": {},
   "outputs": [],
   "source": []
  },
  {
   "cell_type": "markdown",
   "id": "1c210afe-9ac7-4b68-b699-fa4b7218b48c",
   "metadata": {},
   "source": [
    "2. How many rows of data are there?"
   ]
  },
  {
   "cell_type": "code",
   "execution_count": null,
   "id": "27e1370a-1e29-461e-ad55-bb373754a2f8",
   "metadata": {},
   "outputs": [],
   "source": []
  },
  {
   "cell_type": "markdown",
   "id": "1ee849ba-b4db-4c91-832a-4b37c97634a9",
   "metadata": {},
   "source": [
    "3. What is the average over 65 population across all congressional districts?\n",
    "\n",
    "* To find the mean we use the function `mean`, but we also need to tell R what variable we want to find the mean for. The variable that we want is called `AGE65` and it is stored in the object we named `data`. First we give R the object, then we use `$` to find the variable. "
   ]
  },
  {
   "cell_type": "code",
   "execution_count": 7,
   "id": "799b1804-c2e7-49c4-a0c5-96ebaf6cc56b",
   "metadata": {},
   "outputs": [
    {
     "data": {
      "text/html": [
       "60236.5384615385"
      ],
      "text/latex": [
       "60236.5384615385"
      ],
      "text/markdown": [
       "60236.5384615385"
      ],
      "text/plain": [
       "[1] 60236.54"
      ]
     },
     "metadata": {},
     "output_type": "display_data"
    }
   ],
   "source": [
    "mean(first.data$AGE65)"
   ]
  },
  {
   "cell_type": "markdown",
   "id": "dce853fa-c6b3-4b78-a5b8-297f92a1c705",
   "metadata": {},
   "source": [
    "We can also get fancy and put a function inside of another function. Suppose we wanted to round this answer:"
   ]
  },
  {
   "cell_type": "code",
   "execution_count": 8,
   "id": "72295fec-623c-4423-bf1f-ff100c9bc67e",
   "metadata": {},
   "outputs": [
    {
     "data": {
      "text/html": [
       "60236.54"
      ],
      "text/latex": [
       "60236.54"
      ],
      "text/markdown": [
       "60236.54"
      ],
      "text/plain": [
       "[1] 60236.54"
      ]
     },
     "metadata": {},
     "output_type": "display_data"
    }
   ],
   "source": [
    "round(mean(first.data$AGE65), 2)"
   ]
  },
  {
   "cell_type": "code",
   "execution_count": 10,
   "id": "e3ce3805-e5eb-46d1-9536-2518dc9fd05c",
   "metadata": {},
   "outputs": [
    {
     "data": {
      "text/html": [
       "\n",
       "<table width=\"100%\" summary=\"page for Round {base}\"><tr><td>Round {base}</td><td style=\"text-align: right;\">R Documentation</td></tr></table>\n",
       "\n",
       "<h2>Rounding of Numbers</h2>\n",
       "\n",
       "<h3>Description</h3>\n",
       "\n",
       "<p><code>ceiling</code> takes a single numeric argument <code>x</code> and returns a\n",
       "numeric vector containing the smallest integers not less than the\n",
       "corresponding elements of <code>x</code>.\n",
       "</p>\n",
       "<p><code>floor</code> takes a single numeric argument <code>x</code> and returns a\n",
       "numeric vector containing the largest integers not greater than the\n",
       "corresponding elements of <code>x</code>.\n",
       "</p>\n",
       "<p><code>trunc</code> takes a single numeric argument <code>x</code> and returns a\n",
       "numeric vector containing the integers formed by truncating the values in\n",
       "<code>x</code> toward <code>0</code>.\n",
       "</p>\n",
       "<p><code>round</code> rounds the values in its first argument to the specified\n",
       "number of decimal places (default 0).  See &lsquo;Details&rsquo; about\n",
       "&ldquo;round to even&rdquo; when rounding off a 5.\n",
       "</p>\n",
       "<p><code>signif</code> rounds the values in its first argument to the specified\n",
       "number of significant digits.\n",
       "</p>\n",
       "\n",
       "\n",
       "<h3>Usage</h3>\n",
       "\n",
       "<pre>\n",
       "ceiling(x)\n",
       "floor(x)\n",
       "trunc(x, ...)\n",
       "\n",
       "round(x, digits = 0)\n",
       "signif(x, digits = 6)\n",
       "</pre>\n",
       "\n",
       "\n",
       "<h3>Arguments</h3>\n",
       "\n",
       "<table summary=\"R argblock\">\n",
       "<tr valign=\"top\"><td><code>x</code></td>\n",
       "<td>\n",
       "<p>a numeric vector.  Or, for <code>round</code> and <code>signif</code>, a\n",
       "complex vector.</p>\n",
       "</td></tr>\n",
       "<tr valign=\"top\"><td><code>digits</code></td>\n",
       "<td>\n",
       "<p>integer indicating the number of decimal places\n",
       "(<code>round</code>) or significant digits (<code>signif</code>) to be used.\n",
       "Negative values are allowed (see &lsquo;Details&rsquo;).</p>\n",
       "</td></tr>\n",
       "<tr valign=\"top\"><td><code>...</code></td>\n",
       "<td>\n",
       "<p>arguments to be passed to methods.</p>\n",
       "</td></tr>\n",
       "</table>\n",
       "\n",
       "\n",
       "<h3>Details</h3>\n",
       "\n",
       "<p>These are generic functions: methods can be defined for them\n",
       "individually or via the <code>Math</code> group\n",
       "generic.\n",
       "</p>\n",
       "<p>Note that for rounding off a 5, the IEC 60559 standard (see also\n",
       "&lsquo;IEEE 754&rsquo;) is expected to be used, &lsquo;<em>go to the even digit</em>&rsquo;.\n",
       "Therefore <code>round(0.5)</code> is <code>0</code> and <code>round(-1.5)</code> is\n",
       "<code>-2</code>.  However, this is dependent on OS services and on\n",
       "representation error (since e.g. <code>0.15</code> is not represented\n",
       "exactly, the rounding rule applies to the represented number and not\n",
       "to the printed number, and so <code>round(0.15, 1)</code> could be either\n",
       "<code>0.1</code> or <code>0.2</code>).\n",
       "</p>\n",
       "<p>Rounding to a negative number of digits means rounding to a power of\n",
       "ten, so for example <code>round(x, digits = -2)</code> rounds to the nearest\n",
       "hundred.\n",
       "</p>\n",
       "<p>For <code>signif</code> the recognized values of <code>digits</code> are\n",
       "<code>1...22</code>, and non-missing values are rounded to the nearest\n",
       "integer in that range.  Complex numbers are rounded to retain the\n",
       "specified number of digits in the larger of the components.  Each\n",
       "element of the vector is rounded individually, unlike printing.\n",
       "</p>\n",
       "<p>These are all primitive functions.\n",
       "</p>\n",
       "\n",
       "\n",
       "<h3>S4 methods</h3>\n",
       "\n",
       "<p>These are all (internally) S4 generic.\n",
       "</p>\n",
       "<p><code>ceiling</code>, <code>floor</code> and <code>trunc</code> are members of the\n",
       "<code>Math</code> group generic.  As an S4\n",
       "generic, <code>trunc</code> has only one argument.\n",
       "</p>\n",
       "<p><code>round</code> and <code>signif</code> are members of the\n",
       "<code>Math2</code> group generic.\n",
       "</p>\n",
       "\n",
       "\n",
       "<h3>Warning</h3>\n",
       "\n",
       "<p>The realities of computer arithmetic can cause unexpected results,\n",
       "especially with <code>floor</code> and <code>ceiling</code>.  For example, we\n",
       "&lsquo;know&rsquo; that <code>floor(log(x, base = 8))</code> for <code>x = 8</code> is\n",
       "<code>1</code>, but <code>0</code> has been seen on an <span style=\"font-family: Courier New, Courier; color: #666666;\"><b>R</b></span> platform.  It is\n",
       "normally necessary to use a tolerance.\n",
       "</p>\n",
       "\n",
       "\n",
       "<h3>References</h3>\n",
       "\n",
       "<p>Becker, R. A., Chambers, J. M. and Wilks, A. R. (1988)\n",
       "<em>The New S Language</em>.  Wadsworth &amp; Brooks/Cole.\n",
       "</p>\n",
       "<p>The ISO/IEC/IEEE 60559:2011 standard is available for money from\n",
       "<a href=\"https://www.iso.org\">https://www.iso.org</a>.\n",
       "</p>\n",
       "<p>The IEEE 745:2008 standard is more openly documented, e.g, at\n",
       "<a href=\"https://en.wikipedia.org/wiki/IEEE_754\">https://en.wikipedia.org/wiki/IEEE_754</a>.\n",
       "</p>\n",
       "\n",
       "\n",
       "<h3>See Also</h3>\n",
       "\n",
       "<p><code>as.integer</code>.\n",
       "</p>\n",
       "\n",
       "\n",
       "<h3>Examples</h3>\n",
       "\n",
       "<pre>\n",
       "round(.5 + -2:4) # IEEE / IEC rounding: -2  0  0  2  2  4  4\n",
       "## (this is *good* behaviour -- do *NOT* report it as bug !)\n",
       "\n",
       "( x1 &lt;- seq(-2, 4, by = .5) )\n",
       "round(x1) #-- IEEE / IEC rounding !\n",
       "x1[trunc(x1) != floor(x1)]\n",
       "x1[round(x1) != floor(x1 + .5)]\n",
       "(non.int &lt;- ceiling(x1) != floor(x1))\n",
       "\n",
       "x2 &lt;- pi * 100^(-1:3)\n",
       "round(x2, 3)\n",
       "signif(x2, 3)\n",
       "</pre>\n",
       "\n",
       "<hr /><div style=\"text-align: center;\">[Package <em>base</em> version 3.6.3 ]</div>"
      ],
      "text/latex": [
       "\\inputencoding{utf8}\n",
       "\\HeaderA{Round}{Rounding of Numbers}{Round}\n",
       "\\aliasA{ceiling}{Round}{ceiling}\n",
       "\\aliasA{floor}{Round}{floor}\n",
       "\\aliasA{round}{Round}{round}\n",
       "\\aliasA{signif}{Round}{signif}\n",
       "\\aliasA{trunc}{Round}{trunc}\n",
       "\\keyword{arith}{Round}\n",
       "%\n",
       "\\begin{Description}\\relax\n",
       "\\code{ceiling} takes a single numeric argument \\code{x} and returns a\n",
       "numeric vector containing the smallest integers not less than the\n",
       "corresponding elements of \\code{x}.\n",
       "\n",
       "\\code{floor} takes a single numeric argument \\code{x} and returns a\n",
       "numeric vector containing the largest integers not greater than the\n",
       "corresponding elements of \\code{x}.\n",
       "\n",
       "\\code{trunc} takes a single numeric argument \\code{x} and returns a\n",
       "numeric vector containing the integers formed by truncating the values in\n",
       "\\code{x} toward \\code{0}.\n",
       "\n",
       "\\code{round} rounds the values in its first argument to the specified\n",
       "number of decimal places (default 0).  See `Details' about\n",
       "``round to even'' when rounding off a 5.\n",
       "\n",
       "\\code{signif} rounds the values in its first argument to the specified\n",
       "number of significant digits.\n",
       "\\end{Description}\n",
       "%\n",
       "\\begin{Usage}\n",
       "\\begin{verbatim}\n",
       "ceiling(x)\n",
       "floor(x)\n",
       "trunc(x, ...)\n",
       "\n",
       "round(x, digits = 0)\n",
       "signif(x, digits = 6)\n",
       "\\end{verbatim}\n",
       "\\end{Usage}\n",
       "%\n",
       "\\begin{Arguments}\n",
       "\\begin{ldescription}\n",
       "\\item[\\code{x}] a numeric vector.  Or, for \\code{round} and \\code{signif}, a\n",
       "complex vector.\n",
       "\n",
       "\\item[\\code{digits}] integer indicating the number of decimal places\n",
       "(\\code{round}) or significant digits (\\code{signif}) to be used.\n",
       "Negative values are allowed (see `Details').\n",
       "\n",
       "\\item[\\code{...}] arguments to be passed to methods.\n",
       "\\end{ldescription}\n",
       "\\end{Arguments}\n",
       "%\n",
       "\\begin{Details}\\relax\n",
       "These are generic functions: methods can be defined for them\n",
       "individually or via the \\code{\\LinkA{Math}{S3groupGeneric}} group\n",
       "generic.\n",
       "\n",
       "Note that for rounding off a 5, the IEC 60559 standard (see also\n",
       "`IEEE 754') is expected to be used, `\\emph{go to the even digit}'.\n",
       "Therefore \\code{round(0.5)} is \\code{0} and \\code{round(-1.5)} is\n",
       "\\code{-2}.  However, this is dependent on OS services and on\n",
       "representation error (since e.g.~\\code{0.15} is not represented\n",
       "exactly, the rounding rule applies to the represented number and not\n",
       "to the printed number, and so \\code{round(0.15, 1)} could be either\n",
       "\\code{0.1} or \\code{0.2}).\n",
       "\n",
       "Rounding to a negative number of digits means rounding to a power of\n",
       "ten, so for example \\code{round(x, digits = -2)} rounds to the nearest\n",
       "hundred.\n",
       "\n",
       "For \\code{signif} the recognized values of \\code{digits} are\n",
       "\\code{1...22}, and non-missing values are rounded to the nearest\n",
       "integer in that range.  Complex numbers are rounded to retain the\n",
       "specified number of digits in the larger of the components.  Each\n",
       "element of the vector is rounded individually, unlike printing.\n",
       "\n",
       "These are all primitive functions.\n",
       "\\end{Details}\n",
       "%\n",
       "\\begin{Section}{S4 methods}\n",
       "These are all (internally) S4 generic.\n",
       "\n",
       "\\code{ceiling}, \\code{floor} and \\code{trunc} are members of the\n",
       "\\code{\\LinkA{Math}{S4groupGeneric}} group generic.  As an S4\n",
       "generic, \\code{trunc} has only one argument.\n",
       "\n",
       "\\code{round} and \\code{signif} are members of the\n",
       "\\code{\\LinkA{Math2}{S4groupGeneric}} group generic.\n",
       "\\end{Section}\n",
       "%\n",
       "\\begin{Section}{Warning}\n",
       "The realities of computer arithmetic can cause unexpected results,\n",
       "especially with \\code{floor} and \\code{ceiling}.  For example, we\n",
       "`know' that \\code{floor(log(x, base = 8))} for \\code{x = 8} is\n",
       "\\code{1}, but \\code{0} has been seen on an \\R{} platform.  It is\n",
       "normally necessary to use a tolerance.\n",
       "\\end{Section}\n",
       "%\n",
       "\\begin{References}\\relax\n",
       "Becker, R. A., Chambers, J. M. and Wilks, A. R. (1988)\n",
       "\\emph{The New S Language}.  Wadsworth \\& Brooks/Cole.\n",
       "\n",
       "The ISO/IEC/IEEE 60559:2011 standard is available for money from\n",
       "\\url{https://www.iso.org}.\n",
       "\n",
       "The IEEE 745:2008 standard is more openly documented, e.g, at\n",
       "\\url{https://en.wikipedia.org/wiki/IEEE_754}.\n",
       "\\end{References}\n",
       "%\n",
       "\\begin{SeeAlso}\\relax\n",
       "\\code{\\LinkA{as.integer}{as.integer}}.\n",
       "\\end{SeeAlso}\n",
       "%\n",
       "\\begin{Examples}\n",
       "\\begin{ExampleCode}\n",
       "round(.5 + -2:4) # IEEE / IEC rounding: -2  0  0  2  2  4  4\n",
       "## (this is *good* behaviour -- do *NOT* report it as bug !)\n",
       "\n",
       "( x1 <- seq(-2, 4, by = .5) )\n",
       "round(x1) #-- IEEE / IEC rounding !\n",
       "x1[trunc(x1) != floor(x1)]\n",
       "x1[round(x1) != floor(x1 + .5)]\n",
       "(non.int <- ceiling(x1) != floor(x1))\n",
       "\n",
       "x2 <- pi * 100^(-1:3)\n",
       "round(x2, 3)\n",
       "signif(x2, 3)\n",
       "\\end{ExampleCode}\n",
       "\\end{Examples}"
      ],
      "text/plain": [
       "Round                   package:base                   R Documentation\n",
       "\n",
       "_\bR_\bo_\bu_\bn_\bd_\bi_\bn_\bg _\bo_\bf _\bN_\bu_\bm_\bb_\be_\br_\bs\n",
       "\n",
       "_\bD_\be_\bs_\bc_\br_\bi_\bp_\bt_\bi_\bo_\bn:\n",
       "\n",
       "     ‘ceiling’ takes a single numeric argument ‘x’ and returns a\n",
       "     numeric vector containing the smallest integers not less than the\n",
       "     corresponding elements of ‘x’.\n",
       "\n",
       "     ‘floor’ takes a single numeric argument ‘x’ and returns a numeric\n",
       "     vector containing the largest integers not greater than the\n",
       "     corresponding elements of ‘x’.\n",
       "\n",
       "     ‘trunc’ takes a single numeric argument ‘x’ and returns a numeric\n",
       "     vector containing the integers formed by truncating the values in\n",
       "     ‘x’ toward ‘0’.\n",
       "\n",
       "     ‘round’ rounds the values in its first argument to the specified\n",
       "     number of decimal places (default 0).  See ‘Details’ about “round\n",
       "     to even” when rounding off a 5.\n",
       "\n",
       "     ‘signif’ rounds the values in its first argument to the specified\n",
       "     number of significant digits.\n",
       "\n",
       "_\bU_\bs_\ba_\bg_\be:\n",
       "\n",
       "     ceiling(x)\n",
       "     floor(x)\n",
       "     trunc(x, ...)\n",
       "     \n",
       "     round(x, digits = 0)\n",
       "     signif(x, digits = 6)\n",
       "     \n",
       "_\bA_\br_\bg_\bu_\bm_\be_\bn_\bt_\bs:\n",
       "\n",
       "       x: a numeric vector.  Or, for ‘round’ and ‘signif’, a complex\n",
       "          vector.\n",
       "\n",
       "  digits: integer indicating the number of decimal places (‘round’) or\n",
       "          significant digits (‘signif’) to be used.  Negative values\n",
       "          are allowed (see ‘Details’).\n",
       "\n",
       "     ...: arguments to be passed to methods.\n",
       "\n",
       "_\bD_\be_\bt_\ba_\bi_\bl_\bs:\n",
       "\n",
       "     These are generic functions: methods can be defined for them\n",
       "     individually or via the ‘Math’ group generic.\n",
       "\n",
       "     Note that for rounding off a 5, the IEC 60559 standard (see also\n",
       "     ‘IEEE 754’) is expected to be used, ‘_go to the even digit_’.\n",
       "     Therefore ‘round(0.5)’ is ‘0’ and ‘round(-1.5)’ is ‘-2’.  However,\n",
       "     this is dependent on OS services and on representation error\n",
       "     (since e.g. ‘0.15’ is not represented exactly, the rounding rule\n",
       "     applies to the represented number and not to the printed number,\n",
       "     and so ‘round(0.15, 1)’ could be either ‘0.1’ or ‘0.2’).\n",
       "\n",
       "     Rounding to a negative number of digits means rounding to a power\n",
       "     of ten, so for example ‘round(x, digits = -2)’ rounds to the\n",
       "     nearest hundred.\n",
       "\n",
       "     For ‘signif’ the recognized values of ‘digits’ are ‘1...22’, and\n",
       "     non-missing values are rounded to the nearest integer in that\n",
       "     range.  Complex numbers are rounded to retain the specified number\n",
       "     of digits in the larger of the components.  Each element of the\n",
       "     vector is rounded individually, unlike printing.\n",
       "\n",
       "     These are all primitive functions.\n",
       "\n",
       "_\bS_\b4 _\bm_\be_\bt_\bh_\bo_\bd_\bs:\n",
       "\n",
       "     These are all (internally) S4 generic.\n",
       "\n",
       "     ‘ceiling’, ‘floor’ and ‘trunc’ are members of the ‘Math’ group\n",
       "     generic.  As an S4 generic, ‘trunc’ has only one argument.\n",
       "\n",
       "     ‘round’ and ‘signif’ are members of the ‘Math2’ group generic.\n",
       "\n",
       "_\bW_\ba_\br_\bn_\bi_\bn_\bg:\n",
       "\n",
       "     The realities of computer arithmetic can cause unexpected results,\n",
       "     especially with ‘floor’ and ‘ceiling’.  For example, we ‘know’\n",
       "     that ‘floor(log(x, base = 8))’ for ‘x = 8’ is ‘1’, but ‘0’ has\n",
       "     been seen on an R platform.  It is normally necessary to use a\n",
       "     tolerance.\n",
       "\n",
       "_\bR_\be_\bf_\be_\br_\be_\bn_\bc_\be_\bs:\n",
       "\n",
       "     Becker, R. A., Chambers, J. M. and Wilks, A. R. (1988) _The New S\n",
       "     Language_.  Wadsworth & Brooks/Cole.\n",
       "\n",
       "     The ISO/IEC/IEEE 60559:2011 standard is available for money from\n",
       "     <URL: https://www.iso.org>.\n",
       "\n",
       "     The IEEE 745:2008 standard is more openly documented, e.g, at\n",
       "     <URL: https://en.wikipedia.org/wiki/IEEE_754>.\n",
       "\n",
       "_\bS_\be_\be _\bA_\bl_\bs_\bo:\n",
       "\n",
       "     ‘as.integer’.\n",
       "\n",
       "_\bE_\bx_\ba_\bm_\bp_\bl_\be_\bs:\n",
       "\n",
       "     round(.5 + -2:4) # IEEE / IEC rounding: -2  0  0  2  2  4  4\n",
       "     ## (this is *good* behaviour -- do *NOT* report it as bug !)\n",
       "     \n",
       "     ( x1 <- seq(-2, 4, by = .5) )\n",
       "     round(x1) #-- IEEE / IEC rounding !\n",
       "     x1[trunc(x1) != floor(x1)]\n",
       "     x1[round(x1) != floor(x1 + .5)]\n",
       "     (non.int <- ceiling(x1) != floor(x1))\n",
       "     \n",
       "     x2 <- pi * 100^(-1:3)\n",
       "     round(x2, 3)\n",
       "     signif(x2, 3)\n",
       "     "
      ]
     },
     "metadata": {},
     "output_type": "display_data"
    }
   ],
   "source": [
    "?round"
   ]
  },
  {
   "cell_type": "markdown",
   "id": "3be2e3fd-6d51-414f-9bcd-b8b092129bb9",
   "metadata": {},
   "source": [
    "4. Create an indicator variable for California called `ca_dum`.\n",
    "\n",
    "We can also use the `$` to add new variables:"
   ]
  },
  {
   "cell_type": "code",
   "execution_count": 13,
   "id": "c24160f4-a6ba-4733-9e52-30a0737454bf",
   "metadata": {},
   "outputs": [],
   "source": [
    "first.data$ca_dum <- ifelse(first.data$STATE == \"CA\", yes = 1, no = 0)"
   ]
  },
  {
   "cell_type": "markdown",
   "id": "c5472bdb-f4e9-4d7a-8331-2ddc45f84954",
   "metadata": {},
   "source": [
    "5. What is the average over 65 population in each state?"
   ]
  },
  {
   "cell_type": "code",
   "execution_count": 16,
   "id": "22e76dd5-4080-46e2-b921-ea600c438c5e",
   "metadata": {},
   "outputs": [
    {
     "data": {
      "text/html": [
       "<table class=\"dataframe\">\n",
       "<caption>A data.frame: 52 × 2</caption>\n",
       "<thead>\n",
       "\t<tr><th scope=col>AGE65</th><th scope=col>FIPSTATE</th></tr>\n",
       "\t<tr><th scope=col>&lt;int&gt;</th><th scope=col>&lt;dbl&gt;</th></tr>\n",
       "</thead>\n",
       "<tbody>\n",
       "\t<tr><td> 33439</td><td>6</td></tr>\n",
       "\t<tr><td> 36912</td><td>6</td></tr>\n",
       "\t<tr><td> 38992</td><td>6</td></tr>\n",
       "\t<tr><td> 39735</td><td>6</td></tr>\n",
       "\t<tr><td> 39768</td><td>6</td></tr>\n",
       "\t<tr><td> 41113</td><td>6</td></tr>\n",
       "\t<tr><td> 41810</td><td>6</td></tr>\n",
       "\t<tr><td> 43152</td><td>6</td></tr>\n",
       "\t<tr><td> 44779</td><td>6</td></tr>\n",
       "\t<tr><td> 45691</td><td>6</td></tr>\n",
       "\t<tr><td> 48002</td><td>6</td></tr>\n",
       "\t<tr><td> 48162</td><td>6</td></tr>\n",
       "\t<tr><td> 49611</td><td>6</td></tr>\n",
       "\t<tr><td> 50565</td><td>6</td></tr>\n",
       "\t<tr><td> 51177</td><td>6</td></tr>\n",
       "\t<tr><td> 53092</td><td>6</td></tr>\n",
       "\t<tr><td> 53299</td><td>6</td></tr>\n",
       "\t<tr><td> 54113</td><td>6</td></tr>\n",
       "\t<tr><td> 54148</td><td>6</td></tr>\n",
       "\t<tr><td> 57621</td><td>6</td></tr>\n",
       "\t<tr><td> 58580</td><td>6</td></tr>\n",
       "\t<tr><td> 58806</td><td>6</td></tr>\n",
       "\t<tr><td> 59434</td><td>6</td></tr>\n",
       "\t<tr><td> 59816</td><td>6</td></tr>\n",
       "\t<tr><td> 59873</td><td>6</td></tr>\n",
       "\t<tr><td> 60108</td><td>6</td></tr>\n",
       "\t<tr><td> 61313</td><td>6</td></tr>\n",
       "\t<tr><td> 61404</td><td>6</td></tr>\n",
       "\t<tr><td> 61461</td><td>6</td></tr>\n",
       "\t<tr><td> 62595</td><td>6</td></tr>\n",
       "\t<tr><td> 62802</td><td>6</td></tr>\n",
       "\t<tr><td> 62892</td><td>6</td></tr>\n",
       "\t<tr><td> 63493</td><td>6</td></tr>\n",
       "\t<tr><td> 63916</td><td>6</td></tr>\n",
       "\t<tr><td> 64756</td><td>6</td></tr>\n",
       "\t<tr><td> 65052</td><td>6</td></tr>\n",
       "\t<tr><td> 65194</td><td>6</td></tr>\n",
       "\t<tr><td> 65453</td><td>6</td></tr>\n",
       "\t<tr><td> 67287</td><td>6</td></tr>\n",
       "\t<tr><td> 67885</td><td>6</td></tr>\n",
       "\t<tr><td> 68177</td><td>6</td></tr>\n",
       "\t<tr><td> 68906</td><td>6</td></tr>\n",
       "\t<tr><td> 71244</td><td>6</td></tr>\n",
       "\t<tr><td> 73678</td><td>6</td></tr>\n",
       "\t<tr><td> 74115</td><td>6</td></tr>\n",
       "\t<tr><td> 74192</td><td>6</td></tr>\n",
       "\t<tr><td> 74726</td><td>6</td></tr>\n",
       "\t<tr><td> 78265</td><td>6</td></tr>\n",
       "\t<tr><td> 79171</td><td>6</td></tr>\n",
       "\t<tr><td> 89325</td><td>6</td></tr>\n",
       "\t<tr><td> 91269</td><td>6</td></tr>\n",
       "\t<tr><td>111931</td><td>6</td></tr>\n",
       "</tbody>\n",
       "</table>\n"
      ],
      "text/latex": [
       "A data.frame: 52 × 2\n",
       "\\begin{tabular}{ll}\n",
       " AGE65 & FIPSTATE\\\\\n",
       " <int> & <dbl>\\\\\n",
       "\\hline\n",
       "\t  33439 & 6\\\\\n",
       "\t  36912 & 6\\\\\n",
       "\t  38992 & 6\\\\\n",
       "\t  39735 & 6\\\\\n",
       "\t  39768 & 6\\\\\n",
       "\t  41113 & 6\\\\\n",
       "\t  41810 & 6\\\\\n",
       "\t  43152 & 6\\\\\n",
       "\t  44779 & 6\\\\\n",
       "\t  45691 & 6\\\\\n",
       "\t  48002 & 6\\\\\n",
       "\t  48162 & 6\\\\\n",
       "\t  49611 & 6\\\\\n",
       "\t  50565 & 6\\\\\n",
       "\t  51177 & 6\\\\\n",
       "\t  53092 & 6\\\\\n",
       "\t  53299 & 6\\\\\n",
       "\t  54113 & 6\\\\\n",
       "\t  54148 & 6\\\\\n",
       "\t  57621 & 6\\\\\n",
       "\t  58580 & 6\\\\\n",
       "\t  58806 & 6\\\\\n",
       "\t  59434 & 6\\\\\n",
       "\t  59816 & 6\\\\\n",
       "\t  59873 & 6\\\\\n",
       "\t  60108 & 6\\\\\n",
       "\t  61313 & 6\\\\\n",
       "\t  61404 & 6\\\\\n",
       "\t  61461 & 6\\\\\n",
       "\t  62595 & 6\\\\\n",
       "\t  62802 & 6\\\\\n",
       "\t  62892 & 6\\\\\n",
       "\t  63493 & 6\\\\\n",
       "\t  63916 & 6\\\\\n",
       "\t  64756 & 6\\\\\n",
       "\t  65052 & 6\\\\\n",
       "\t  65194 & 6\\\\\n",
       "\t  65453 & 6\\\\\n",
       "\t  67287 & 6\\\\\n",
       "\t  67885 & 6\\\\\n",
       "\t  68177 & 6\\\\\n",
       "\t  68906 & 6\\\\\n",
       "\t  71244 & 6\\\\\n",
       "\t  73678 & 6\\\\\n",
       "\t  74115 & 6\\\\\n",
       "\t  74192 & 6\\\\\n",
       "\t  74726 & 6\\\\\n",
       "\t  78265 & 6\\\\\n",
       "\t  79171 & 6\\\\\n",
       "\t  89325 & 6\\\\\n",
       "\t  91269 & 6\\\\\n",
       "\t 111931 & 6\\\\\n",
       "\\end{tabular}\n"
      ],
      "text/markdown": [
       "\n",
       "A data.frame: 52 × 2\n",
       "\n",
       "| AGE65 &lt;int&gt; | FIPSTATE &lt;dbl&gt; |\n",
       "|---|---|\n",
       "|  33439 | 6 |\n",
       "|  36912 | 6 |\n",
       "|  38992 | 6 |\n",
       "|  39735 | 6 |\n",
       "|  39768 | 6 |\n",
       "|  41113 | 6 |\n",
       "|  41810 | 6 |\n",
       "|  43152 | 6 |\n",
       "|  44779 | 6 |\n",
       "|  45691 | 6 |\n",
       "|  48002 | 6 |\n",
       "|  48162 | 6 |\n",
       "|  49611 | 6 |\n",
       "|  50565 | 6 |\n",
       "|  51177 | 6 |\n",
       "|  53092 | 6 |\n",
       "|  53299 | 6 |\n",
       "|  54113 | 6 |\n",
       "|  54148 | 6 |\n",
       "|  57621 | 6 |\n",
       "|  58580 | 6 |\n",
       "|  58806 | 6 |\n",
       "|  59434 | 6 |\n",
       "|  59816 | 6 |\n",
       "|  59873 | 6 |\n",
       "|  60108 | 6 |\n",
       "|  61313 | 6 |\n",
       "|  61404 | 6 |\n",
       "|  61461 | 6 |\n",
       "|  62595 | 6 |\n",
       "|  62802 | 6 |\n",
       "|  62892 | 6 |\n",
       "|  63493 | 6 |\n",
       "|  63916 | 6 |\n",
       "|  64756 | 6 |\n",
       "|  65052 | 6 |\n",
       "|  65194 | 6 |\n",
       "|  65453 | 6 |\n",
       "|  67287 | 6 |\n",
       "|  67885 | 6 |\n",
       "|  68177 | 6 |\n",
       "|  68906 | 6 |\n",
       "|  71244 | 6 |\n",
       "|  73678 | 6 |\n",
       "|  74115 | 6 |\n",
       "|  74192 | 6 |\n",
       "|  74726 | 6 |\n",
       "|  78265 | 6 |\n",
       "|  79171 | 6 |\n",
       "|  89325 | 6 |\n",
       "|  91269 | 6 |\n",
       "| 111931 | 6 |\n",
       "\n"
      ],
      "text/plain": [
       "   AGE65  FIPSTATE\n",
       "1   33439 6       \n",
       "2   36912 6       \n",
       "3   38992 6       \n",
       "4   39735 6       \n",
       "5   39768 6       \n",
       "6   41113 6       \n",
       "7   41810 6       \n",
       "8   43152 6       \n",
       "9   44779 6       \n",
       "10  45691 6       \n",
       "11  48002 6       \n",
       "12  48162 6       \n",
       "13  49611 6       \n",
       "14  50565 6       \n",
       "15  51177 6       \n",
       "16  53092 6       \n",
       "17  53299 6       \n",
       "18  54113 6       \n",
       "19  54148 6       \n",
       "20  57621 6       \n",
       "21  58580 6       \n",
       "22  58806 6       \n",
       "23  59434 6       \n",
       "24  59816 6       \n",
       "25  59873 6       \n",
       "26  60108 6       \n",
       "27  61313 6       \n",
       "28  61404 6       \n",
       "29  61461 6       \n",
       "30  62595 6       \n",
       "31  62802 6       \n",
       "32  62892 6       \n",
       "33  63493 6       \n",
       "34  63916 6       \n",
       "35  64756 6       \n",
       "36  65052 6       \n",
       "37  65194 6       \n",
       "38  65453 6       \n",
       "39  67287 6       \n",
       "40  67885 6       \n",
       "41  68177 6       \n",
       "42  68906 6       \n",
       "43  71244 6       \n",
       "44  73678 6       \n",
       "45  74115 6       \n",
       "46  74192 6       \n",
       "47  74726 6       \n",
       "48  78265 6       \n",
       "49  79171 6       \n",
       "50  89325 6       \n",
       "51  91269 6       \n",
       "52 111931 6       "
      ]
     },
     "metadata": {},
     "output_type": "display_data"
    }
   ],
   "source": [
    "aggregate(formula = FIPSTATE ~ AGE65, data = first.data, FUN = mean)"
   ]
  },
  {
   "cell_type": "markdown",
   "id": "9d5a2888-4ca8-497a-be70-6df7b041e6bb",
   "metadata": {},
   "source": [
    "How many total blue collar workers are there in each state?"
   ]
  },
  {
   "cell_type": "code",
   "execution_count": 17,
   "id": "3be4f19a-ac36-4b4a-835d-e0dbc2aa61f9",
   "metadata": {},
   "outputs": [
    {
     "data": {
      "text/html": [
       "<table class=\"dataframe\">\n",
       "<caption>A data.frame: 52 × 2</caption>\n",
       "<thead>\n",
       "\t<tr><th scope=col>BLUCLLR</th><th scope=col>FIPSTATE</th></tr>\n",
       "\t<tr><th scope=col>&lt;int&gt;</th><th scope=col>&lt;int&gt;</th></tr>\n",
       "</thead>\n",
       "<tbody>\n",
       "\t<tr><td>15678</td><td>6</td></tr>\n",
       "\t<tr><td>19415</td><td>6</td></tr>\n",
       "\t<tr><td>21547</td><td>6</td></tr>\n",
       "\t<tr><td>22166</td><td>6</td></tr>\n",
       "\t<tr><td>22555</td><td>6</td></tr>\n",
       "\t<tr><td>22611</td><td>6</td></tr>\n",
       "\t<tr><td>23059</td><td>6</td></tr>\n",
       "\t<tr><td>24025</td><td>6</td></tr>\n",
       "\t<tr><td>24946</td><td>6</td></tr>\n",
       "\t<tr><td>25090</td><td>6</td></tr>\n",
       "\t<tr><td>25888</td><td>6</td></tr>\n",
       "\t<tr><td>25931</td><td>6</td></tr>\n",
       "\t<tr><td>26062</td><td>6</td></tr>\n",
       "\t<tr><td>26610</td><td>6</td></tr>\n",
       "\t<tr><td>26631</td><td>6</td></tr>\n",
       "\t<tr><td>27190</td><td>6</td></tr>\n",
       "\t<tr><td>27843</td><td>6</td></tr>\n",
       "\t<tr><td>28055</td><td>6</td></tr>\n",
       "\t<tr><td>28369</td><td>6</td></tr>\n",
       "\t<tr><td>28650</td><td>6</td></tr>\n",
       "\t<tr><td>28998</td><td>6</td></tr>\n",
       "\t<tr><td>29058</td><td>6</td></tr>\n",
       "\t<tr><td>29098</td><td>6</td></tr>\n",
       "\t<tr><td>29165</td><td>6</td></tr>\n",
       "\t<tr><td>30290</td><td>6</td></tr>\n",
       "\t<tr><td>30372</td><td>6</td></tr>\n",
       "\t<tr><td>30624</td><td>6</td></tr>\n",
       "\t<tr><td>30894</td><td>6</td></tr>\n",
       "\t<tr><td>31509</td><td>6</td></tr>\n",
       "\t<tr><td>31680</td><td>6</td></tr>\n",
       "\t<tr><td>31865</td><td>6</td></tr>\n",
       "\t<tr><td>32447</td><td>6</td></tr>\n",
       "\t<tr><td>33931</td><td>6</td></tr>\n",
       "\t<tr><td>35195</td><td>6</td></tr>\n",
       "\t<tr><td>35975</td><td>6</td></tr>\n",
       "\t<tr><td>37124</td><td>6</td></tr>\n",
       "\t<tr><td>37370</td><td>6</td></tr>\n",
       "\t<tr><td>38168</td><td>6</td></tr>\n",
       "\t<tr><td>39317</td><td>6</td></tr>\n",
       "\t<tr><td>39496</td><td>6</td></tr>\n",
       "\t<tr><td>39617</td><td>6</td></tr>\n",
       "\t<tr><td>41791</td><td>6</td></tr>\n",
       "\t<tr><td>42257</td><td>6</td></tr>\n",
       "\t<tr><td>44852</td><td>6</td></tr>\n",
       "\t<tr><td>51943</td><td>6</td></tr>\n",
       "\t<tr><td>54562</td><td>6</td></tr>\n",
       "\t<tr><td>55304</td><td>6</td></tr>\n",
       "\t<tr><td>55415</td><td>6</td></tr>\n",
       "\t<tr><td>56388</td><td>6</td></tr>\n",
       "\t<tr><td>56456</td><td>6</td></tr>\n",
       "\t<tr><td>62887</td><td>6</td></tr>\n",
       "\t<tr><td>83517</td><td>6</td></tr>\n",
       "</tbody>\n",
       "</table>\n"
      ],
      "text/latex": [
       "A data.frame: 52 × 2\n",
       "\\begin{tabular}{ll}\n",
       " BLUCLLR & FIPSTATE\\\\\n",
       " <int> & <int>\\\\\n",
       "\\hline\n",
       "\t 15678 & 6\\\\\n",
       "\t 19415 & 6\\\\\n",
       "\t 21547 & 6\\\\\n",
       "\t 22166 & 6\\\\\n",
       "\t 22555 & 6\\\\\n",
       "\t 22611 & 6\\\\\n",
       "\t 23059 & 6\\\\\n",
       "\t 24025 & 6\\\\\n",
       "\t 24946 & 6\\\\\n",
       "\t 25090 & 6\\\\\n",
       "\t 25888 & 6\\\\\n",
       "\t 25931 & 6\\\\\n",
       "\t 26062 & 6\\\\\n",
       "\t 26610 & 6\\\\\n",
       "\t 26631 & 6\\\\\n",
       "\t 27190 & 6\\\\\n",
       "\t 27843 & 6\\\\\n",
       "\t 28055 & 6\\\\\n",
       "\t 28369 & 6\\\\\n",
       "\t 28650 & 6\\\\\n",
       "\t 28998 & 6\\\\\n",
       "\t 29058 & 6\\\\\n",
       "\t 29098 & 6\\\\\n",
       "\t 29165 & 6\\\\\n",
       "\t 30290 & 6\\\\\n",
       "\t 30372 & 6\\\\\n",
       "\t 30624 & 6\\\\\n",
       "\t 30894 & 6\\\\\n",
       "\t 31509 & 6\\\\\n",
       "\t 31680 & 6\\\\\n",
       "\t 31865 & 6\\\\\n",
       "\t 32447 & 6\\\\\n",
       "\t 33931 & 6\\\\\n",
       "\t 35195 & 6\\\\\n",
       "\t 35975 & 6\\\\\n",
       "\t 37124 & 6\\\\\n",
       "\t 37370 & 6\\\\\n",
       "\t 38168 & 6\\\\\n",
       "\t 39317 & 6\\\\\n",
       "\t 39496 & 6\\\\\n",
       "\t 39617 & 6\\\\\n",
       "\t 41791 & 6\\\\\n",
       "\t 42257 & 6\\\\\n",
       "\t 44852 & 6\\\\\n",
       "\t 51943 & 6\\\\\n",
       "\t 54562 & 6\\\\\n",
       "\t 55304 & 6\\\\\n",
       "\t 55415 & 6\\\\\n",
       "\t 56388 & 6\\\\\n",
       "\t 56456 & 6\\\\\n",
       "\t 62887 & 6\\\\\n",
       "\t 83517 & 6\\\\\n",
       "\\end{tabular}\n"
      ],
      "text/markdown": [
       "\n",
       "A data.frame: 52 × 2\n",
       "\n",
       "| BLUCLLR &lt;int&gt; | FIPSTATE &lt;int&gt; |\n",
       "|---|---|\n",
       "| 15678 | 6 |\n",
       "| 19415 | 6 |\n",
       "| 21547 | 6 |\n",
       "| 22166 | 6 |\n",
       "| 22555 | 6 |\n",
       "| 22611 | 6 |\n",
       "| 23059 | 6 |\n",
       "| 24025 | 6 |\n",
       "| 24946 | 6 |\n",
       "| 25090 | 6 |\n",
       "| 25888 | 6 |\n",
       "| 25931 | 6 |\n",
       "| 26062 | 6 |\n",
       "| 26610 | 6 |\n",
       "| 26631 | 6 |\n",
       "| 27190 | 6 |\n",
       "| 27843 | 6 |\n",
       "| 28055 | 6 |\n",
       "| 28369 | 6 |\n",
       "| 28650 | 6 |\n",
       "| 28998 | 6 |\n",
       "| 29058 | 6 |\n",
       "| 29098 | 6 |\n",
       "| 29165 | 6 |\n",
       "| 30290 | 6 |\n",
       "| 30372 | 6 |\n",
       "| 30624 | 6 |\n",
       "| 30894 | 6 |\n",
       "| 31509 | 6 |\n",
       "| 31680 | 6 |\n",
       "| 31865 | 6 |\n",
       "| 32447 | 6 |\n",
       "| 33931 | 6 |\n",
       "| 35195 | 6 |\n",
       "| 35975 | 6 |\n",
       "| 37124 | 6 |\n",
       "| 37370 | 6 |\n",
       "| 38168 | 6 |\n",
       "| 39317 | 6 |\n",
       "| 39496 | 6 |\n",
       "| 39617 | 6 |\n",
       "| 41791 | 6 |\n",
       "| 42257 | 6 |\n",
       "| 44852 | 6 |\n",
       "| 51943 | 6 |\n",
       "| 54562 | 6 |\n",
       "| 55304 | 6 |\n",
       "| 55415 | 6 |\n",
       "| 56388 | 6 |\n",
       "| 56456 | 6 |\n",
       "| 62887 | 6 |\n",
       "| 83517 | 6 |\n",
       "\n"
      ],
      "text/plain": [
       "   BLUCLLR FIPSTATE\n",
       "1  15678   6       \n",
       "2  19415   6       \n",
       "3  21547   6       \n",
       "4  22166   6       \n",
       "5  22555   6       \n",
       "6  22611   6       \n",
       "7  23059   6       \n",
       "8  24025   6       \n",
       "9  24946   6       \n",
       "10 25090   6       \n",
       "11 25888   6       \n",
       "12 25931   6       \n",
       "13 26062   6       \n",
       "14 26610   6       \n",
       "15 26631   6       \n",
       "16 27190   6       \n",
       "17 27843   6       \n",
       "18 28055   6       \n",
       "19 28369   6       \n",
       "20 28650   6       \n",
       "21 28998   6       \n",
       "22 29058   6       \n",
       "23 29098   6       \n",
       "24 29165   6       \n",
       "25 30290   6       \n",
       "26 30372   6       \n",
       "27 30624   6       \n",
       "28 30894   6       \n",
       "29 31509   6       \n",
       "30 31680   6       \n",
       "31 31865   6       \n",
       "32 32447   6       \n",
       "33 33931   6       \n",
       "34 35195   6       \n",
       "35 35975   6       \n",
       "36 37124   6       \n",
       "37 37370   6       \n",
       "38 38168   6       \n",
       "39 39317   6       \n",
       "40 39496   6       \n",
       "41 39617   6       \n",
       "42 41791   6       \n",
       "43 42257   6       \n",
       "44 44852   6       \n",
       "45 51943   6       \n",
       "46 54562   6       \n",
       "47 55304   6       \n",
       "48 55415   6       \n",
       "49 56388   6       \n",
       "50 56456   6       \n",
       "51 62887   6       \n",
       "52 83517   6       "
      ]
     },
     "metadata": {},
     "output_type": "display_data"
    }
   ],
   "source": [
    "aggregate(formula = FIPSTATE ~ BLUCLLR, data = first.data, FUN = sum)"
   ]
  },
  {
   "cell_type": "markdown",
   "id": "07e36a6e-f60a-49f1-9912-411ef9877a50",
   "metadata": {},
   "source": [
    "When you're done, run this command:"
   ]
  },
  {
   "cell_type": "code",
   "execution_count": 21,
   "id": "e7ebbefd-0c25-4ea2-88b9-f338808d0ed2",
   "metadata": {},
   "outputs": [],
   "source": [
    "rm(list = ls())"
   ]
  },
  {
   "cell_type": "markdown",
   "id": "815e39ba-d435-4b3a-bfb7-0e52460c35bf",
   "metadata": {},
   "source": [
    "# Practice Problems\n",
    "\n",
    "1. Import the `intro_data.csv` data.\n",
    "\n",
    "2. What is the average military population across all congressional districts.\n",
    "\n",
    "3. Create an indicator called \"cd_dum\" for when a congressional district equals 10. \n",
    "\n",
    "4. How many total farmers are there in each state? (Name your variable \"tot_farmers\")."
   ]
  },
  {
   "cell_type": "code",
   "execution_count": null,
   "id": "017be560-2ab3-455c-8f12-d4cf5401102b",
   "metadata": {},
   "outputs": [],
   "source": []
  }
 ],
 "metadata": {
  "kernelspec": {
   "display_name": "R",
   "language": "R",
   "name": "ir"
  },
  "language_info": {
   "codemirror_mode": "r",
   "file_extension": ".r",
   "mimetype": "text/x-r-source",
   "name": "R",
   "pygments_lexer": "r",
   "version": "3.6.3"
  }
 },
 "nbformat": 4,
 "nbformat_minor": 5
}
